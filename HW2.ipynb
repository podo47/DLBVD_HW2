{
  "cells": [
    {
      "cell_type": "markdown",
      "metadata": {
        "id": "view-in-github",
        "colab_type": "text"
      },
      "source": [
        "<a href=\"https://colab.research.google.com/github/podo47/DLBVD_HW2/blob/main/HW2.ipynb\" target=\"_parent\"><img src=\"https://colab.research.google.com/assets/colab-badge.svg\" alt=\"Open In Colab\"/></a>"
      ]
    },
    {
      "cell_type": "markdown",
      "metadata": {
        "id": "Le7KyRKU4rc9"
      },
      "source": [
        "## Problem 1"
      ]
    },
    {
      "cell_type": "code",
      "execution_count": 86,
      "metadata": {
        "id": "PhjLGc96WSFE"
      },
      "outputs": [],
      "source": [
        "import torch"
      ]
    },
    {
      "cell_type": "markdown",
      "metadata": {
        "id": "XsY1xCq5FVKS"
      },
      "source": [
        "### (a) Tensor"
      ]
    },
    {
      "cell_type": "markdown",
      "metadata": {
        "id": "i8w_eeTTmKc8"
      },
      "source": [
        "Construct an uninitialized 4x4 matrix:\n",
        "\n",
        "\n",
        "\n"
      ]
    },
    {
      "cell_type": "code",
      "execution_count": 87,
      "metadata": {
        "colab": {
          "base_uri": "https://localhost:8080/"
        },
        "id": "iupWY0T38vB2",
        "outputId": "46e9335e-e521-491e-de46-0592e0e1857d"
      },
      "outputs": [
        {
          "output_type": "stream",
          "name": "stdout",
          "text": [
            "tensor([[1.5766e-19, 1.0256e-08, 1.6408e-07, 3.1128e+12],\n",
            "        [2.7096e-09, 2.6409e-06, 1.6804e-04, 1.2610e+16],\n",
            "        [2.1707e-18, 7.0952e+22, 1.7748e+28, 1.8176e+31],\n",
            "        [7.2708e+31, 5.0778e+31, 3.2608e-12, 1.7728e+28]])\n"
          ]
        }
      ],
      "source": [
        "# todo\n",
        "x = torch.empty(4,4)\n",
        "print(x)"
      ]
    },
    {
      "cell_type": "markdown",
      "metadata": {
        "id": "6t3ZpPvhmNyR"
      },
      "source": [
        "Construct a randomly initialized 3x3 matrix from a uniform distribution on the interval [0, 10)"
      ]
    },
    {
      "cell_type": "code",
      "execution_count": 88,
      "metadata": {
        "colab": {
          "base_uri": "https://localhost:8080/"
        },
        "id": "Eb_e-WVZmTSR",
        "outputId": "435fb2d7-73f6-495f-855f-bad5ef40a2f6"
      },
      "outputs": [
        {
          "output_type": "stream",
          "name": "stdout",
          "text": [
            "tensor([[1.0234, 8.2278, 9.5391],\n",
            "        [8.3336, 0.8676, 5.6392],\n",
            "        [9.5681, 9.2228, 7.4608]])\n"
          ]
        }
      ],
      "source": [
        "# todo\n",
        "x = torch.rand(3,3) * 10\n",
        "print(x)"
      ]
    },
    {
      "cell_type": "markdown",
      "metadata": {
        "id": "IQ-ovXhOmVLy"
      },
      "source": [
        "Construct a 2x2 matrix filled zeros with data type float32:"
      ]
    },
    {
      "cell_type": "code",
      "execution_count": 89,
      "metadata": {
        "colab": {
          "base_uri": "https://localhost:8080/"
        },
        "id": "KpmSWypymXF5",
        "outputId": "92307950-66fc-425c-f5bc-c94296880203"
      },
      "outputs": [
        {
          "output_type": "stream",
          "name": "stdout",
          "text": [
            "tensor([[0., 0.],\n",
            "        [0., 0.]])\n"
          ]
        }
      ],
      "source": [
        "# todo\n",
        "x = torch.zeros(2,2,dtype=torch.float32)\n",
        "print(x)"
      ]
    },
    {
      "cell_type": "markdown",
      "metadata": {
        "id": "PKEXn8g2Y1la"
      },
      "source": [
        "Construct a 5x5 matrix from the normal distribution with zero mean and one std with the same shape as x. \n",
        "\n",
        "y's data type should be float32. \n",
        "\n",
        "Print the size of x and y."
      ]
    },
    {
      "cell_type": "code",
      "execution_count": 90,
      "metadata": {
        "colab": {
          "base_uri": "https://localhost:8080/"
        },
        "id": "96HTBfZZZOfF",
        "outputId": "b74a467a-0641-4bb6-bfe1-3d6dedf085ca"
      },
      "outputs": [
        {
          "output_type": "stream",
          "name": "stdout",
          "text": [
            "tensor([[-0.2903,  0.0145, -1.0787, -0.7277,  0.3582],\n",
            "        [ 0.3031,  0.9980, -0.5568,  1.5589, -0.1258],\n",
            "        [-0.3282,  0.7227,  0.0942, -0.7655,  0.0519],\n",
            "        [-1.5135, -0.9475,  1.2163, -0.8136,  0.3875],\n",
            "        [ 0.4674,  0.0111, -0.2428, -1.9176, -0.6775]])\n",
            "Size of x :  torch.Size([5, 5])\n",
            "Size of y :  torch.Size([5, 5])\n"
          ]
        }
      ],
      "source": [
        "x = torch.ones(5, 5, dtype=torch.float64)\n",
        "# todo\n",
        "y = torch.randn_like(x, dtype=torch.float32)\n",
        "print(y)\n",
        "# todo: print the size of x and y\n",
        "print(\"Size of x : \", x.size())\n",
        "print(\"Size of y : \", y.size())"
      ]
    },
    {
      "cell_type": "markdown",
      "metadata": {
        "id": "iNdFynRZnOWR"
      },
      "source": [
        "### (b) Operations"
      ]
    },
    {
      "cell_type": "markdown",
      "metadata": {
        "id": "P_paGZd0aCRd"
      },
      "source": [
        "Addition: Print x + y"
      ]
    },
    {
      "cell_type": "code",
      "execution_count": 91,
      "metadata": {
        "colab": {
          "base_uri": "https://localhost:8080/"
        },
        "id": "nMaomyi5m4s7",
        "outputId": "b688db1b-1620-4472-ed2a-42ed5066a51d"
      },
      "outputs": [
        {
          "output_type": "stream",
          "name": "stdout",
          "text": [
            "tensor([[1., 2.],\n",
            "        [3., 4.]])\n",
            "tensor([[4., 5.],\n",
            "        [6., 7.]])\n",
            "x + y = \n",
            "tensor([[ 5.,  7.],\n",
            "        [ 9., 11.]])\n"
          ]
        }
      ],
      "source": [
        "x = torch.tensor([[1., 2.], [3., 4.]])\n",
        "y = torch.arange(4, 8, dtype=torch.float32).reshape(2, 2)\n",
        "print(x)\n",
        "print(y)\n",
        "# todo\n",
        "print('x + y = ')\n",
        "print(torch.add(x,y))"
      ]
    },
    {
      "cell_type": "markdown",
      "metadata": {
        "id": "PDjNjqERnwQc"
      },
      "source": [
        "Addition: add y and x inplace (modify y)"
      ]
    },
    {
      "cell_type": "code",
      "execution_count": 92,
      "metadata": {
        "colab": {
          "base_uri": "https://localhost:8080/"
        },
        "id": "4ggwAdTinx2R",
        "outputId": "932c09da-c385-407c-8380-e0bca7278dd1"
      },
      "outputs": [
        {
          "output_type": "stream",
          "name": "stdout",
          "text": [
            "tensor([[ 5.,  7.],\n",
            "        [ 9., 11.]])\n"
          ]
        }
      ],
      "source": [
        "x = torch.tensor([[1., 2.], [3., 4.]])\n",
        "y = torch.arange(4, 8, dtype=torch.float32).reshape(2, 2)\n",
        "\n",
        "# todo: adds x to y\n",
        "y.add_(x)\n",
        "print(y)"
      ]
    },
    {
      "cell_type": "markdown",
      "metadata": {
        "id": "x4v0ZJYXbHpc"
      },
      "source": [
        "Indexing\n",
        "\n",
        "In this part, you will use indexing techniques to access part of data store in tensor **x**.\n",
        "x is a 3x3x3 matrix.\n",
        "\n",
        "For simplicity, we let (a, b, c) represents the a-th in the first axis, b-th in the second axis and c-th in the third axis, a, b and c start from 0, \n",
        "\n",
        "e.g get x at (0, 1, 1) is to get the first in the first axis, second in the second axis and second in the third axis of x, which returns 5. \n",
        "\n",
        "We also let getting x at (0:2, 1, 1) mean get the first two rows in the first axis, second in the second axis and second in the third axis.\n",
        "\n",
        "Hint: You should use standard NumPy-like indexing.\n"
      ]
    },
    {
      "cell_type": "code",
      "execution_count": 93,
      "metadata": {
        "colab": {
          "base_uri": "https://localhost:8080/"
        },
        "id": "p3b8frAGbXKp",
        "outputId": "644127e7-e056-486c-da35-a30967fe45ef"
      },
      "outputs": [
        {
          "output_type": "stream",
          "name": "stdout",
          "text": [
            "tensor([[[ 1,  2,  3],\n",
            "         [ 4,  5,  6],\n",
            "         [ 7,  8,  9]],\n",
            "\n",
            "        [[10, 11, 12],\n",
            "         [13, 14, 15],\n",
            "         [16, 17, 18]],\n",
            "\n",
            "        [[19, 20, 21],\n",
            "         [22, 23, 24],\n",
            "         [25, 26, 27]]], dtype=torch.int32)\n",
            "tensor(5, dtype=torch.int32)\n",
            "tensor([ 5, 14], dtype=torch.int32)\n"
          ]
        }
      ],
      "source": [
        "x = torch.arange(1, 28, dtype=torch.int32).reshape(3, 3, 3)\n",
        "print(x)\n",
        "# Example: get (0, 1, 1) of x\n",
        "print(x[0, 1, 1])\n",
        "# Example: get (0:2, 1, 1) of x\n",
        "print(x[0:2, 1, 1])"
      ]
    },
    {
      "cell_type": "code",
      "execution_count": 94,
      "metadata": {
        "colab": {
          "base_uri": "https://localhost:8080/"
        },
        "id": "PU9HTsMRbRVW",
        "outputId": "9b2fcb7e-112d-4665-ffc0-bcab4a75e10b"
      },
      "outputs": [
        {
          "output_type": "stream",
          "name": "stdout",
          "text": [
            "tensor(17, dtype=torch.int32)\n",
            "tensor([5, 8], dtype=torch.int32)\n",
            "tensor([[[11, 12],\n",
            "         [14, 15],\n",
            "         [17, 18]],\n",
            "\n",
            "        [[20, 21],\n",
            "         [23, 24],\n",
            "         [26, 27]]], dtype=torch.int32)\n"
          ]
        }
      ],
      "source": [
        "# todo: get (1, 2, 1) of x\n",
        "print(x[1, 2, 1])\n",
        "# todo: get (0, 1:3, 1) of x\n",
        "print(x[0, 1:3, 1])\n",
        "# todo: get (1:3, 0:3, 1:3) of x\n",
        "print(x[1:3, 0:3, 1:3])"
      ]
    },
    {
      "cell_type": "markdown",
      "metadata": {
        "id": "XqILDc6Dn5_y"
      },
      "source": [
        "Resizing"
      ]
    },
    {
      "cell_type": "code",
      "execution_count": 95,
      "metadata": {
        "colab": {
          "base_uri": "https://localhost:8080/"
        },
        "id": "_IHNWtSjn7zW",
        "outputId": "6ff040fe-603e-4ee0-ca12-77a5bc851bb9"
      },
      "outputs": [
        {
          "output_type": "stream",
          "name": "stdout",
          "text": [
            "tensor([[ 0,  1,  2,  3],\n",
            "        [ 4,  5,  6,  7],\n",
            "        [ 8,  9, 10, 11]])\n",
            "tensor([[ 0,  1,  2],\n",
            "        [ 3,  4,  5],\n",
            "        [ 6,  7,  8],\n",
            "        [ 9, 10, 11]])\n"
          ]
        }
      ],
      "source": [
        "A = torch.arange(12)\n",
        "\n",
        "# todo: resize A to 3x4 using view\n",
        "print(A.view(3,4))\n",
        "# todo: resize A to 4x3 using reshape\n",
        "print(A.reshape(4,3))"
      ]
    },
    {
      "cell_type": "markdown",
      "metadata": {
        "id": "MjIyg0k7jSJu"
      },
      "source": [
        "###Question \n",
        "**What is the difference between view and reshape of a tensor?**\n",
        "\n",
        "\n",
        "---\n",
        "\n",
        "\n",
        "**Answer :**\n",
        "\n",
        "The difference is that \"view\" creates new tensor with the same data as the original tensor, so it can only be used to resize tensor with the same number of elements as the original tensor.\n",
        "\n",
        "While \"reshape\" can create new tensor with any new shape, regardless of the number of elements. So it can also rearrange the data if necessary to fit the new defined shape. "
      ]
    },
    {
      "cell_type": "markdown",
      "metadata": {
        "id": "Z_LRanfFLDav"
      },
      "source": [
        "## Problem 2"
      ]
    },
    {
      "cell_type": "markdown",
      "metadata": {
        "id": "_UnzKwFZXBow"
      },
      "source": [
        "### (a) Prepare MNIST dataset\n",
        "\n",
        "Download MNIST dataset `mnist.mat` from the [google drive link](https://drive.google.com/file/d/13BJmpfohMGthH9gGRYgxMyBk3Y2J8vE8/view?usp=sharing) and put into your Google Drive.\n",
        "Mount your Google Drive to this notebook."
      ]
    },
    {
      "cell_type": "code",
      "execution_count": 1,
      "metadata": {
        "id": "2862HRnVLHSo"
      },
      "outputs": [],
      "source": [
        "# Show matplotlib graphs in your notebook\n",
        "%matplotlib inline"
      ]
    },
    {
      "cell_type": "code",
      "execution_count": 2,
      "metadata": {
        "colab": {
          "base_uri": "https://localhost:8080/"
        },
        "id": "Zz6Q1adZL3kU",
        "outputId": "8d2c69b1-e660-4338-900b-91fec2aa2aad"
      },
      "outputs": [
        {
          "output_type": "stream",
          "name": "stdout",
          "text": [
            "Mounted at /content/gdrive\n"
          ]
        }
      ],
      "source": [
        "# Mount your Google Drive to this notebook.\n",
        "from google.colab import drive\n",
        "drive.mount('/content/gdrive')"
      ]
    },
    {
      "cell_type": "markdown",
      "metadata": {
        "id": "RmAN2QJyLDax"
      },
      "source": [
        "Load MNIST dataset from your Google Drive. \n",
        "\n",
        "Different from HW1, we downsample the data from 28x28 to 14x14.\n",
        "The training data (images) are contained in a matrix called `mnist['traindata']` with labels called `mnist['trainlabels']`. The testing data are in `mnist['testdata']`."
      ]
    },
    {
      "cell_type": "code",
      "execution_count": 3,
      "metadata": {
        "colab": {
          "base_uri": "https://localhost:8080/"
        },
        "id": "Al08q_GmLDax",
        "outputId": "12eaea8a-a046-466b-ccaf-292cbd50329a"
      },
      "outputs": [
        {
          "output_type": "stream",
          "name": "stderr",
          "text": [
            "/usr/local/lib/python3.9/dist-packages/torchvision/transforms/functional.py:1603: UserWarning: The default value of the antialias parameter of all the resizing transforms (Resize(), RandomResizedCrop(), etc.) will change from None to True in v0.17, in order to be consistent across the PIL and Tensor backends. To suppress this warning, directly pass antialias=True (recommended, future default), antialias=None (current default, which means False for Tensors and True for PIL), or antialias=False (only works on Tensors - PIL will still use antialiasing). This also applies if you are using the inference transforms from the models weights: update the call to weights.transforms(antialias=True).\n",
            "  warnings.warn(\n"
          ]
        },
        {
          "output_type": "stream",
          "name": "stdout",
          "text": [
            "torch.Size([50000, 1, 14, 14])\n",
            "torch.Size([50000])\n",
            "torch.Size([10000, 1, 14, 14])\n",
            "torch.Size([10000])\n",
            "torch.Size([10000, 1, 14, 14])\n"
          ]
        }
      ],
      "source": [
        "from scipy.io import loadmat\n",
        "import torch\n",
        "import torchvision.transforms as T\n",
        "\n",
        "\n",
        "mnist = loadmat('/content/gdrive/MyDrive/mnist.mat') # change the file path according to the path where you put mnist.mat on your Google Drive.\n",
        "\n",
        "# convert data to torch, normalize and reshape\n",
        "# Reshape (1,28,28) and normalize to -0.5 - 0.5\n",
        "data = torch.reshape(torch.from_numpy(mnist['traindata']).to(torch.float)/255.0 - 0.5, (mnist['traindata'].shape[0], 1, 28, 28))\n",
        "testdata = torch.reshape(torch.from_numpy(mnist['testdata']).to(torch.float)/255.0 - 0.5, (mnist['testdata'].shape[0], 1, 28, 28))\n",
        "\n",
        "trainlabels = torch.from_numpy(mnist['trainlabels'].ravel()[:50000])\n",
        "validlabels = torch.from_numpy(mnist['trainlabels'].ravel()[50000:])\n",
        "\n",
        "resize = T.Resize((14,14))\n",
        "data = resize(data)\n",
        "testdata = resize(testdata)\n",
        "traindata = data[:50000]\n",
        "validdata = data[50000:]\n",
        "\n",
        "\n",
        "print(traindata.shape)\n",
        "print(trainlabels.shape)\n",
        "print(validdata.shape)\n",
        "print(validlabels.shape)\n",
        "print(testdata.shape)"
      ]
    },
    {
      "cell_type": "code",
      "execution_count": 4,
      "metadata": {
        "id": "k8OJw5cUlv0J"
      },
      "outputs": [],
      "source": [
        "from torch.utils.data import TensorDataset, DataLoader\n",
        "\n",
        "mnist_train = TensorDataset(traindata, trainlabels)\n",
        "mnist_valid = TensorDataset(validdata, validlabels)\n",
        "mnist_train_loader = DataLoader(mnist_train, batch_size=128, shuffle=True)\n",
        "mnist_valid_loader = DataLoader(mnist_valid, batch_size=128)"
      ]
    },
    {
      "cell_type": "markdown",
      "metadata": {
        "id": "Jjj79ZkVLDa0"
      },
      "source": [
        "\n",
        "\n",
        "Visualize an image with label."
      ]
    },
    {
      "cell_type": "code",
      "execution_count": 5,
      "metadata": {
        "colab": {
          "base_uri": "https://localhost:8080/",
          "height": 983
        },
        "id": "xbRf0yp5LDa1",
        "outputId": "d2e7c327-c811-4b79-e6ae-2ed009f945b2"
      },
      "outputs": [
        {
          "output_type": "display_data",
          "data": {
            "text/plain": [
              "<Figure size 1200x1200 with 25 Axes>"
            ],
            "image/png": "[encoded data removed]"
          },
          "metadata": {}
        }
      ],
      "source": [
        "import matplotlib.pyplot as plt\n",
        "from matplotlib import cm\n",
        "\n",
        "fig, axs = plt.subplots(5, 5, figsize = (12, 12))\n",
        "plt.gray()\n",
        "\n",
        "# loop through subplots and add mnist images\n",
        "for i, ax in enumerate(axs.flat):\n",
        "  ax.imshow((mnist_train[i][0] + 0.5 ).reshape((14, 14)), cmap=cm.gray_r)\n",
        "  ax.axis('off')\n",
        "  ax.set_title('Number {}'.format(trainlabels[i]))"
      ]
    },
    {
      "cell_type": "markdown",
      "metadata": {
        "id": "RxdJs7c3U2-7"
      },
      "source": [
        "### (b) Multilayer Perceptron (MLP)\n",
        "\n",
        "Use MLP to achieve image classification.\n",
        "\n",
        "Define the following MLP using PyTorch to do image classification on MNIST dataset according to the below figure:\n",
        "Number of hidden layers: 3\n",
        "Number of neurons in the layers: [100, 50, 20]\n",
        "Activation functions: ReLU()\n",
        "Dropout for all hidden layers: 30%\n",
        "Output layer + softmax\n"
      ]
    },
    {
      "cell_type": "markdown",
      "metadata": {
        "id": "B87-tX7aVSQi"
      },
      "source": [
        "![Screen Shot 2022-09-23 at 11.48.00 AM.png](data:image/png;base64,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)"
      ]
    },
    {
      "cell_type": "markdown",
      "metadata": {
        "id": "DQOoObWBSiKg"
      },
      "source": [
        "To feed the data into the MLP, each image with dim of $1 \\times 14 \\times 14$ needs to be flatten into a vector with dim of $196.\n",
        "\n",
        "Just like how you transfer a Tensor onto the GPU, you transfer the neural net onto the GPU. Let's first define our device as the first visible cuda device if we have CUDA available.\n",
        "\n",
        "**Note**: remember to keep the logs of training the different models."
      ]
    },
    {
      "cell_type": "code",
      "execution_count": 6,
      "metadata": {
        "colab": {
          "base_uri": "https://localhost:8080/"
        },
        "id": "yvbWQt2Qv28G",
        "outputId": "4f34f12c-088b-4a0b-8ef9-5cc1ce895d25"
      },
      "outputs": [
        {
          "output_type": "stream",
          "name": "stdout",
          "text": [
            "cuda:0\n"
          ]
        }
      ],
      "source": [
        "# use GPU to train if possible\n",
        "device = torch.device(\"cuda:0\" if torch.cuda.is_available() else \"cpu\")\n",
        "print(device)"
      ]
    },
    {
      "cell_type": "code",
      "execution_count": 7,
      "metadata": {
        "id": "OHGFYOm8emtA"
      },
      "outputs": [],
      "source": [
        "import torch.nn as nn\n",
        "\n",
        "class MLP(nn.Module):\n",
        "  def __init__(self):\n",
        "    super(MLP, self).__init__()\n",
        "    # TODO: define your MLP\n",
        "    self.fc1 = nn.Linear(196,100)\n",
        "    self.fc2 = nn.Linear(100,50)\n",
        "    self.fc3 = nn.Linear(50,20)\n",
        "    self.output = nn.Linear(20,10)\n",
        "    self.dropout = nn.Dropout(p=0.3)\n",
        "    self.relu = nn.ReLU()\n",
        "    self.softmax = nn.Softmax(dim=1)\n",
        "\n",
        "  def forward(self, x):\n",
        "    # TODO: define your forward function\n",
        "    \n",
        "    # Flatten the input\n",
        "    x = x.view(-1, 196)\n",
        "        \n",
        "    # Forward \n",
        "    x = self.relu(self.fc1(x))\n",
        "    x = self.dropout(x)\n",
        "    x = self.relu(self.fc2(x))\n",
        "    x = self.dropout(x)\n",
        "    x = self.relu(self.fc3(x))\n",
        "    x = self.dropout(x)\n",
        "    x = self.softmax(self.output(x))\n",
        "    return x\n"
      ]
    },
    {
      "cell_type": "code",
      "execution_count": 8,
      "metadata": {
        "id": "fFvGjY43NNZM"
      },
      "outputs": [],
      "source": [
        "from tqdm import tqdm"
      ]
    },
    {
      "cell_type": "code",
      "execution_count": 9,
      "metadata": {
        "id": "Dg8_7Mzd45HA"
      },
      "outputs": [],
      "source": [
        "# TODO: write your training code\n",
        "def train(model, criterion, optimizer, traindata_loader):\n",
        "  model.train()\n",
        "  train_loss = 0.0\n",
        "  train_acc = 0.0\n",
        "\n",
        "  bar = tqdm(traindata_loader)\n",
        "  bar.set_description(f\"Training...\")\n",
        "\n",
        "  for batch, (X, y) in enumerate(bar):\n",
        "    # Move data to device\n",
        "    X, y = X.to(device), y.to(device)\n",
        "    # Clear gradients\n",
        "    optimizer.zero_grad()\n",
        "    # Forward pass (make prediction)\n",
        "    pred = model(X)\n",
        "    # Compute loss\n",
        "    loss = criterion(pred, y)\n",
        "    # Backpropagation (compute gradient)\n",
        "    loss.backward()\n",
        "    # Updata model with optimizer\n",
        "    optimizer.step()\n",
        "    train_loss += loss.item() * len(X)\n",
        "    train_acc += (pred.argmax(dim=-1) == y).float().sum().item()\n",
        "    \n",
        "    if batch % 100 == 0:\n",
        "      bar.set_postfix({\"Batch average loss\": f\"{loss.item():.4f}\"})\n",
        "\n",
        "  avg_loss =  train_loss / len(traindata_loader.dataset)\n",
        "  avg_acc = train_acc / len(traindata_loader.dataset)\n",
        "\n",
        "  return avg_loss, avg_acc\n",
        "\n",
        "# TODO: write your testing code\n",
        "# If test data has labels, \"label = True\"\n",
        "def test(model, criterion, testdata_loader, label = False):\n",
        "  model.eval()\n",
        "  test_loss = 0.0\n",
        "  test_acc = 0.0\n",
        "  prediction = []\n",
        "\n",
        "  with torch.no_grad():\n",
        "    for X, y in tqdm(testdata_loader):\n",
        "      X, y = X.to(device), y.to(device)\n",
        "      pred = model(X)\n",
        "      \n",
        "      if label:\n",
        "        loss = criterion(pred, y)\n",
        "        test_loss += loss.item() * len(X)\n",
        "        test_acc += (pred.argmax(dim=-1) == y).float().sum().item()\n",
        "\n",
        "      prediction.extend(pred.argmax(dim=-1).cpu().numpy().tolist())  \n",
        "  if label:\n",
        "    avg_test_loss =  round(test_loss / len(testdata_loader.dataset), 4)\n",
        "    avg_test_acc = round(test_acc / len(testdata_loader.dataset), 4)\n",
        "    print(f\"Average test loss: {avg_test_loss:.4f} | Average test Acc: {avg_test_acc:.4f}\")\n",
        "\n",
        "    return prediction, avg_test_loss, avg_test_acc\n",
        "  else:\n",
        "    return prediction\n"
      ]
    },
    {
      "cell_type": "code",
      "execution_count": 10,
      "metadata": {
        "id": "kq7984jdBw_F"
      },
      "outputs": [],
      "source": [
        "mlp = MLP().to(device)  # operate on GPU"
      ]
    },
    {
      "cell_type": "code",
      "execution_count": 11,
      "metadata": {
        "colab": {
          "base_uri": "https://localhost:8080/"
        },
        "id": "bzQ01dIa8YgC",
        "outputId": "9005db10-a6be-47f7-e199-590655a7e194"
      },
      "outputs": [
        {
          "output_type": "stream",
          "name": "stdout",
          "text": [
            "The MLP model : \n",
            " MLP(\n",
            "  (fc1): Linear(in_features=196, out_features=100, bias=True)\n",
            "  (fc2): Linear(in_features=100, out_features=50, bias=True)\n",
            "  (fc3): Linear(in_features=50, out_features=20, bias=True)\n",
            "  (output): Linear(in_features=20, out_features=10, bias=True)\n",
            "  (dropout): Dropout(p=0.3, inplace=False)\n",
            "  (relu): ReLU()\n",
            "  (softmax): Softmax(dim=1)\n",
            ")\n"
          ]
        }
      ],
      "source": [
        "print(\"The MLP model : \\n\",mlp)"
      ]
    },
    {
      "cell_type": "markdown",
      "metadata": {
        "id": "nkkNxVUz7Ep1"
      },
      "source": [
        "Define a loss function and optimizer."
      ]
    },
    {
      "cell_type": "code",
      "execution_count": 12,
      "metadata": {
        "id": "O6_ABQ1DfJgg"
      },
      "outputs": [],
      "source": [
        "import torch.optim as optim\n",
        "\n",
        "# TODO: you can change loss function and optimizer\n",
        "criterion = nn.CrossEntropyLoss()\n",
        "optimizer = optim.Adam(mlp.parameters(), lr=0.001, betas=(0.9, 0.999), eps=1e-08, weight_decay=0)"
      ]
    },
    {
      "cell_type": "markdown",
      "metadata": {
        "id": "_axZ2tOWfe-Z"
      },
      "source": [
        "Train the network. \n",
        "\n",
        "This is when things start to get interesting.\n",
        "We simply have to loop over our data iterator, and feed the inputs to the\n",
        "network and optimize."
      ]
    },
    {
      "cell_type": "code",
      "execution_count": null,
      "metadata": {
        "colab": {
          "base_uri": "https://localhost:8080/"
        },
        "id": "6jd0fDQ39sfG",
        "outputId": "eac14db2-4433-4cc1-f5f2-089c69154aa9"
      },
      "outputs": [
        {
          "output_type": "stream",
          "name": "stderr",
          "text": [
            "Training...: 100%|██████████| 391/391 [00:03<00:00, 102.12it/s, Batch average loss=1.8520]\n"
          ]
        },
        {
          "output_type": "stream",
          "name": "stdout",
          "text": [
            "Epoch 1 | Average train loss: 1.9982 / Average train Acc: 0.4747 \n",
            "\n"
          ]
        },
        {
          "output_type": "stream",
          "name": "stderr",
          "text": [
            "Training...: 100%|██████████| 391/391 [00:01<00:00, 316.17it/s, Batch average loss=1.6668]\n"
          ]
        },
        {
          "output_type": "stream",
          "name": "stdout",
          "text": [
            "Epoch 2 | Average train loss: 1.7048 / Average train Acc: 0.7741 \n",
            "\n"
          ]
        },
        {
          "output_type": "stream",
          "name": "stderr",
          "text": [
            "Training...: 100%|██████████| 391/391 [00:01<00:00, 307.23it/s, Batch average loss=1.5625]\n"
          ]
        },
        {
          "output_type": "stream",
          "name": "stdout",
          "text": [
            "Epoch 3 | Average train loss: 1.6351 / Average train Acc: 0.8385 \n",
            "\n"
          ]
        },
        {
          "output_type": "stream",
          "name": "stderr",
          "text": [
            "Training...: 100%|██████████| 391/391 [00:01<00:00, 293.54it/s, Batch average loss=1.5741]\n"
          ]
        },
        {
          "output_type": "stream",
          "name": "stdout",
          "text": [
            "Epoch 4 | Average train loss: 1.6117 / Average train Acc: 0.8578 \n",
            "\n"
          ]
        },
        {
          "output_type": "stream",
          "name": "stderr",
          "text": [
            "Training...: 100%|██████████| 391/391 [00:01<00:00, 302.54it/s, Batch average loss=1.5975]\n"
          ]
        },
        {
          "output_type": "stream",
          "name": "stdout",
          "text": [
            "Epoch 5 | Average train loss: 1.5965 / Average train Acc: 0.8719 \n",
            "\n"
          ]
        },
        {
          "output_type": "stream",
          "name": "stderr",
          "text": [
            "Training...: 100%|██████████| 391/391 [00:01<00:00, 313.24it/s, Batch average loss=1.5824]\n"
          ]
        },
        {
          "output_type": "stream",
          "name": "stdout",
          "text": [
            "Epoch 6 | Average train loss: 1.5891 / Average train Acc: 0.8784 \n",
            "\n"
          ]
        },
        {
          "output_type": "stream",
          "name": "stderr",
          "text": [
            "Training...: 100%|██████████| 391/391 [00:01<00:00, 317.66it/s, Batch average loss=1.6339]\n"
          ]
        },
        {
          "output_type": "stream",
          "name": "stdout",
          "text": [
            "Epoch 7 | Average train loss: 1.5819 / Average train Acc: 0.8847 \n",
            "\n"
          ]
        },
        {
          "output_type": "stream",
          "name": "stderr",
          "text": [
            "Training...: 100%|██████████| 391/391 [00:01<00:00, 232.60it/s, Batch average loss=1.6160]\n"
          ]
        },
        {
          "output_type": "stream",
          "name": "stdout",
          "text": [
            "Epoch 8 | Average train loss: 1.5749 / Average train Acc: 0.8907 \n",
            "\n"
          ]
        },
        {
          "output_type": "stream",
          "name": "stderr",
          "text": [
            "Training...: 100%|██████████| 391/391 [00:01<00:00, 224.57it/s, Batch average loss=1.5898]\n"
          ]
        },
        {
          "output_type": "stream",
          "name": "stdout",
          "text": [
            "Epoch 9 | Average train loss: 1.5718 / Average train Acc: 0.8935 \n",
            "\n"
          ]
        },
        {
          "output_type": "stream",
          "name": "stderr",
          "text": [
            "Training...: 100%|██████████| 391/391 [00:01<00:00, 291.62it/s, Batch average loss=1.5469]"
          ]
        },
        {
          "output_type": "stream",
          "name": "stdout",
          "text": [
            "Epoch 10 | Average train loss: 1.5679 / Average train Acc: 0.8978 \n",
            "\n"
          ]
        },
        {
          "output_type": "stream",
          "name": "stderr",
          "text": [
            "\n"
          ]
        }
      ],
      "source": [
        "n_epoch = 10\n",
        "# todo: use your train() to train the model\n",
        "for epoch in range(n_epoch):\n",
        "  avg_train_loss, avg_train_acc = train(mlp, criterion, optimizer, mnist_train_loader)\n",
        "  print(f\"Epoch {epoch+1} | Average train loss: {avg_train_loss:.4f} / Average train Acc: {avg_train_acc:.4f} \\n\")"
      ]
    },
    {
      "cell_type": "markdown",
      "metadata": {
        "id": "U0CP36AOgCQR"
      },
      "source": [
        "Save the trained model. \n",
        "See [here](https://pytorch.org/docs/stable/notes/serialization.html)\n",
        "for more details on saving PyTorch models."
      ]
    },
    {
      "cell_type": "code",
      "execution_count": 13,
      "metadata": {
        "id": "spe6mioOgFPq"
      },
      "outputs": [],
      "source": [
        "PATH = '/content/gdrive/MyDrive/DLBVD/HW2/mlp_mnist.pth'"
      ]
    },
    {
      "cell_type": "markdown",
      "source": [
        "Optional : Save the trained model"
      ],
      "metadata": {
        "id": "lpkgivlerLPy"
      }
    },
    {
      "cell_type": "code",
      "source": [
        "torch.save(mlp.state_dict(), PATH)"
      ],
      "metadata": {
        "id": "lOQG73c66fzp"
      },
      "execution_count": null,
      "outputs": []
    },
    {
      "cell_type": "markdown",
      "metadata": {
        "id": "ohEOKpQh7EqA"
      },
      "source": [
        "Load back in our saved model. (Note: saving and re-loading the model\n",
        "wasn't necessary here, we only did it to illustrate how to do so)\n",
        "\n"
      ]
    },
    {
      "cell_type": "code",
      "execution_count": 14,
      "metadata": {
        "colab": {
          "base_uri": "https://localhost:8080/"
        },
        "id": "zdW5-7Rf7EqA",
        "outputId": "18693f30-6986-4740-ba5d-4198d975fbce"
      },
      "outputs": [
        {
          "output_type": "execute_result",
          "data": {
            "text/plain": [
              "<All keys matched successfully>"
            ]
          },
          "metadata": {},
          "execution_count": 14
        }
      ],
      "source": [
        "mlp = MLP().to(device)\n",
        "mlp.load_state_dict(torch.load(PATH))"
      ]
    },
    {
      "cell_type": "markdown",
      "metadata": {
        "id": "uiwCEPnm9kVN"
      },
      "source": [
        "Evaluate the classfication performance on the testing set."
      ]
    },
    {
      "cell_type": "code",
      "execution_count": 75,
      "metadata": {
        "colab": {
          "base_uri": "https://localhost:8080/"
        },
        "id": "iRoECZtg9lBl",
        "outputId": "9999939c-c5ca-44fb-acde-6abfd65df516"
      },
      "outputs": [
        {
          "output_type": "stream",
          "name": "stdout",
          "text": [
            "MLP(\n",
            "  (fc1): Linear(in_features=196, out_features=100, bias=True)\n",
            "  (fc2): Linear(in_features=100, out_features=50, bias=True)\n",
            "  (fc3): Linear(in_features=50, out_features=20, bias=True)\n",
            "  (output): Linear(in_features=20, out_features=10, bias=True)\n",
            "  (dropout): Dropout(p=0.3, inplace=False)\n",
            "  (relu): ReLU()\n",
            "  (softmax): Softmax(dim=1)\n",
            ")\n"
          ]
        },
        {
          "output_type": "stream",
          "name": "stderr",
          "text": [
            "100%|██████████| 79/79 [00:00<00:00, 198.54it/s]"
          ]
        },
        {
          "output_type": "stream",
          "name": "stdout",
          "text": [
            "Average test loss: 1.5287 | Average test Acc: 0.9321\n"
          ]
        },
        {
          "output_type": "stream",
          "name": "stderr",
          "text": [
            "\n"
          ]
        }
      ],
      "source": [
        "print(mlp)\n",
        "# todo: use your test() to test your MLP on val set\n",
        "mlp_valid_pred, mlp_valid_avloss, mlp_valid_avacc = test(mlp, criterion, mnist_valid_loader, label=True)"
      ]
    },
    {
      "cell_type": "markdown",
      "metadata": {
        "id": "x8YcAStPfmBM"
      },
      "source": [
        "### (c) Convolution Neural Network (CNN)"
      ]
    },
    {
      "cell_type": "markdown",
      "metadata": {
        "id": "NXLrcdbivC5C"
      },
      "source": [
        "Built a LeNet-5 using PyTorch to do image classification. Develop the CNN from the PyTorch NN tutorial introduced in class. \n",
        "\n",
        "Note: \n",
        "1. The input image dimension shown in the figure below is different from the one we have in this problem.\n",
        "2. Use kernel size=3 for both convolutions (Original LeNet-5 uses kernel size=5 as shown in the Fig.3 of HW2.pdf)\n"
      ]
    },
    {
      "cell_type": "code",
      "execution_count": 16,
      "metadata": {
        "id": "0nFR56-gvcgt"
      },
      "outputs": [],
      "source": [
        "import torch.nn as nn\n",
        "\n",
        "class CNN(nn.Module):\n",
        "  def __init__(self):\n",
        "    super().__init__()\n",
        "    # TODO: define your CNN\n",
        "    self.cnn_layers = nn.Sequential(\n",
        "            nn.Conv2d(1, 6, 3),\n",
        "            nn.ReLU(),\n",
        "            nn.MaxPool2d(kernel_size=2),\n",
        "            nn.Conv2d(6, 16, 3),\n",
        "            nn.ReLU(),\n",
        "            nn.MaxPool2d(kernel_size=2))\n",
        "    self.fc_layers = nn.Sequential(\n",
        "            nn.Linear(16*2*2, 120),\n",
        "            nn.ReLU(),\n",
        "            nn.Linear(120, 84),\n",
        "            nn.ReLU(),\n",
        "            nn.Linear(84, 10))\n",
        "\n",
        "  def forward(self, x):\n",
        "    # TODO: define your forward function\n",
        "    x = self.cnn_layers(x)\n",
        "    x = x.flatten(1)\n",
        "    x = self.fc_layers(x)\n",
        "\n",
        "    return x"
      ]
    },
    {
      "cell_type": "code",
      "source": [
        "cnn_mnist = CNN().to(device)  # operate on GPU"
      ],
      "metadata": {
        "id": "nmE24Uh8E_Va"
      },
      "execution_count": 17,
      "outputs": []
    },
    {
      "cell_type": "code",
      "source": [
        "print(\"The CNN model : \\n\",cnn_mnist)"
      ],
      "metadata": {
        "colab": {
          "base_uri": "https://localhost:8080/"
        },
        "id": "VEGaRMRE17Fn",
        "outputId": "8f7bfe75-5f64-4f0a-aea6-458a7fced9b8"
      },
      "execution_count": 18,
      "outputs": [
        {
          "output_type": "stream",
          "name": "stdout",
          "text": [
            "The CNN model : \n",
            " CNN(\n",
            "  (cnn_layers): Sequential(\n",
            "    (0): Conv2d(1, 6, kernel_size=(3, 3), stride=(1, 1))\n",
            "    (1): ReLU()\n",
            "    (2): MaxPool2d(kernel_size=2, stride=2, padding=0, dilation=1, ceil_mode=False)\n",
            "    (3): Conv2d(6, 16, kernel_size=(3, 3), stride=(1, 1))\n",
            "    (4): ReLU()\n",
            "    (5): MaxPool2d(kernel_size=2, stride=2, padding=0, dilation=1, ceil_mode=False)\n",
            "  )\n",
            "  (fc_layers): Sequential(\n",
            "    (0): Linear(in_features=64, out_features=120, bias=True)\n",
            "    (1): ReLU()\n",
            "    (2): Linear(in_features=120, out_features=84, bias=True)\n",
            "    (3): ReLU()\n",
            "    (4): Linear(in_features=84, out_features=10, bias=True)\n",
            "  )\n",
            ")\n"
          ]
        }
      ]
    },
    {
      "cell_type": "code",
      "source": [
        "# TODO: you can change loss function and optimizer\n",
        "criterion = nn.CrossEntropyLoss()\n",
        "optimizer = optim.Adam(cnn_mnist.parameters(), lr=0.0001, betas=(0.9, 0.999), eps=1e-08, weight_decay=0)"
      ],
      "metadata": {
        "id": "FCKmaV-11KT7"
      },
      "execution_count": 19,
      "outputs": []
    },
    {
      "cell_type": "code",
      "source": [
        "mnist_train_loader = DataLoader(mnist_train, batch_size=32, shuffle=True)"
      ],
      "metadata": {
        "id": "Vxoyl-GqTpwh"
      },
      "execution_count": 20,
      "outputs": []
    },
    {
      "cell_type": "code",
      "execution_count": null,
      "metadata": {
        "id": "tEtKymsdyySz",
        "colab": {
          "base_uri": "https://localhost:8080/"
        },
        "outputId": "cc10b495-e180-40e0-e4f5-d207dc0c6a17"
      },
      "outputs": [
        {
          "output_type": "stream",
          "name": "stderr",
          "text": [
            "Training...: 100%|██████████| 1563/1563 [00:08<00:00, 184.05it/s, Batch average loss=0.9233]\n"
          ]
        },
        {
          "output_type": "stream",
          "name": "stdout",
          "text": [
            "Epoch 1 | Average train loss: 1.4117 / Average train Acc: 0.5860 \n",
            "\n"
          ]
        },
        {
          "output_type": "stream",
          "name": "stderr",
          "text": [
            "Training...: 100%|██████████| 1563/1563 [00:05<00:00, 300.17it/s, Batch average loss=0.2440]\n"
          ]
        },
        {
          "output_type": "stream",
          "name": "stdout",
          "text": [
            "Epoch 2 | Average train loss: 0.4977 / Average train Acc: 0.8538 \n",
            "\n"
          ]
        },
        {
          "output_type": "stream",
          "name": "stderr",
          "text": [
            "Training...: 100%|██████████| 1563/1563 [00:05<00:00, 289.22it/s, Batch average loss=0.1465]\n"
          ]
        },
        {
          "output_type": "stream",
          "name": "stdout",
          "text": [
            "Epoch 3 | Average train loss: 0.3536 / Average train Acc: 0.8945 \n",
            "\n"
          ]
        },
        {
          "output_type": "stream",
          "name": "stderr",
          "text": [
            "Training...: 100%|██████████| 1563/1563 [00:04<00:00, 315.11it/s, Batch average loss=0.3699]\n"
          ]
        },
        {
          "output_type": "stream",
          "name": "stdout",
          "text": [
            "Epoch 4 | Average train loss: 0.2903 / Average train Acc: 0.9120 \n",
            "\n"
          ]
        },
        {
          "output_type": "stream",
          "name": "stderr",
          "text": [
            "Training...: 100%|██████████| 1563/1563 [00:05<00:00, 269.79it/s, Batch average loss=0.4905]\n"
          ]
        },
        {
          "output_type": "stream",
          "name": "stdout",
          "text": [
            "Epoch 5 | Average train loss: 0.2482 / Average train Acc: 0.9235 \n",
            "\n"
          ]
        },
        {
          "output_type": "stream",
          "name": "stderr",
          "text": [
            "Training...: 100%|██████████| 1563/1563 [00:04<00:00, 316.73it/s, Batch average loss=0.3894]\n"
          ]
        },
        {
          "output_type": "stream",
          "name": "stdout",
          "text": [
            "Epoch 6 | Average train loss: 0.2198 / Average train Acc: 0.9331 \n",
            "\n"
          ]
        },
        {
          "output_type": "stream",
          "name": "stderr",
          "text": [
            "Training...: 100%|██████████| 1563/1563 [00:05<00:00, 297.79it/s, Batch average loss=0.1824]\n"
          ]
        },
        {
          "output_type": "stream",
          "name": "stdout",
          "text": [
            "Epoch 7 | Average train loss: 0.1968 / Average train Acc: 0.9392 \n",
            "\n"
          ]
        },
        {
          "output_type": "stream",
          "name": "stderr",
          "text": [
            "Training...: 100%|██████████| 1563/1563 [00:05<00:00, 281.83it/s, Batch average loss=0.1916]\n"
          ]
        },
        {
          "output_type": "stream",
          "name": "stdout",
          "text": [
            "Epoch 8 | Average train loss: 0.1806 / Average train Acc: 0.9438 \n",
            "\n"
          ]
        },
        {
          "output_type": "stream",
          "name": "stderr",
          "text": [
            "Training...: 100%|██████████| 1563/1563 [00:05<00:00, 312.55it/s, Batch average loss=0.0521]\n"
          ]
        },
        {
          "output_type": "stream",
          "name": "stdout",
          "text": [
            "Epoch 9 | Average train loss: 0.1666 / Average train Acc: 0.9481 \n",
            "\n"
          ]
        },
        {
          "output_type": "stream",
          "name": "stderr",
          "text": [
            "Training...: 100%|██████████| 1563/1563 [00:05<00:00, 270.36it/s, Batch average loss=0.1678]"
          ]
        },
        {
          "output_type": "stream",
          "name": "stdout",
          "text": [
            "Epoch 10 | Average train loss: 0.1550 / Average train Acc: 0.9522 \n",
            "\n"
          ]
        },
        {
          "output_type": "stream",
          "name": "stderr",
          "text": [
            "\n"
          ]
        }
      ],
      "source": [
        "# todo: similar to MLP, train your CNN model\n",
        "n_epoch = 10\n",
        "# todo: use your train() to train the model\n",
        "for epoch in range(n_epoch):\n",
        "  cnn_avg_train_loss, cnn_avg_train_acc = train(cnn_mnist, criterion, optimizer, mnist_train_loader)\n",
        "  print(f\"Epoch {epoch+1} | Average train loss: {cnn_avg_train_loss:.4f} / Average train Acc: {cnn_avg_train_acc:.4f} \\n\")"
      ]
    },
    {
      "cell_type": "code",
      "source": [
        "PATH_cnn = '/content/gdrive/MyDrive/DLBVD/HW2/cnn_mnist.pth'"
      ],
      "metadata": {
        "id": "VcCIDFLlxZe9"
      },
      "execution_count": 21,
      "outputs": []
    },
    {
      "cell_type": "markdown",
      "source": [
        "Optional : Save the trained model"
      ],
      "metadata": {
        "id": "sHMRtz3pzHuF"
      }
    },
    {
      "cell_type": "code",
      "source": [
        "torch.save(cnn_mnist.state_dict(), PATH_cnn)"
      ],
      "metadata": {
        "id": "fB8XgkeUxZSG"
      },
      "execution_count": null,
      "outputs": []
    },
    {
      "cell_type": "markdown",
      "source": [
        "Load back in our saved model"
      ],
      "metadata": {
        "id": "jbJmPVzEzS6Q"
      }
    },
    {
      "cell_type": "code",
      "source": [
        "cnn_mnist = CNN().to(device)\n",
        "cnn_mnist.load_state_dict(torch.load(PATH_cnn))"
      ],
      "metadata": {
        "colab": {
          "base_uri": "https://localhost:8080/"
        },
        "id": "nEn0Zz3jxZIB",
        "outputId": "d2ca6038-dbb7-4387-8e62-348cd6542f8c"
      },
      "execution_count": 22,
      "outputs": [
        {
          "output_type": "execute_result",
          "data": {
            "text/plain": [
              "<All keys matched successfully>"
            ]
          },
          "metadata": {},
          "execution_count": 22
        }
      ]
    },
    {
      "cell_type": "code",
      "execution_count": 23,
      "metadata": {
        "id": "4Pl6XNsF0CVH",
        "colab": {
          "base_uri": "https://localhost:8080/"
        },
        "outputId": "7e3644e5-ed84-4124-f76d-e30db212927a"
      },
      "outputs": [
        {
          "output_type": "stream",
          "name": "stdout",
          "text": [
            "CNN(\n",
            "  (cnn_layers): Sequential(\n",
            "    (0): Conv2d(1, 6, kernel_size=(3, 3), stride=(1, 1))\n",
            "    (1): ReLU()\n",
            "    (2): MaxPool2d(kernel_size=2, stride=2, padding=0, dilation=1, ceil_mode=False)\n",
            "    (3): Conv2d(6, 16, kernel_size=(3, 3), stride=(1, 1))\n",
            "    (4): ReLU()\n",
            "    (5): MaxPool2d(kernel_size=2, stride=2, padding=0, dilation=1, ceil_mode=False)\n",
            "  )\n",
            "  (fc_layers): Sequential(\n",
            "    (0): Linear(in_features=64, out_features=120, bias=True)\n",
            "    (1): ReLU()\n",
            "    (2): Linear(in_features=120, out_features=84, bias=True)\n",
            "    (3): ReLU()\n",
            "    (4): Linear(in_features=84, out_features=10, bias=True)\n",
            "  )\n",
            ")\n"
          ]
        },
        {
          "output_type": "stream",
          "name": "stderr",
          "text": [
            "100%|██████████| 79/79 [00:03<00:00, 21.95it/s]"
          ]
        },
        {
          "output_type": "stream",
          "name": "stdout",
          "text": [
            "Average test loss: 0.1364 | Average test Acc: 0.9595\n"
          ]
        },
        {
          "output_type": "stream",
          "name": "stderr",
          "text": [
            "\n"
          ]
        }
      ],
      "source": [
        "print(cnn_mnist)\n",
        "# todo: use your test() to test your CNN on val set\n",
        "cnn_valid_pred, cnn_valid_avloss, cnn_valid_avacc = test(cnn_mnist, criterion, mnist_valid_loader, label=True)\n",
        "#cnn_test_pred = test(cnn_mnist, criterion, mnist_test_loader, label=True)"
      ]
    },
    {
      "cell_type": "markdown",
      "metadata": {
        "id": "AYERJpbVn-5x"
      },
      "source": [
        "## Problem 3: Image Classification by CNN"
      ]
    },
    {
      "cell_type": "markdown",
      "metadata": {
        "id": "Fj3L0DrOM88X"
      },
      "source": [
        "Write code to load and visualize the CIFAR-10 dataset.\n",
        "\n",
        "CIFAR-10 dataset has the classes (listed below): ‘airplane’, ‘automobile’, ‘bird’, ‘cat’, ‘deer’, ‘dog’, ‘frog’, ‘horse’, ‘ship’, ‘truck’. The images in CIFAR-10 are of size $3 \\times 32 \\times 32$, i.e. 3-channel color images of $32 \\times 32$ pixels in size. \n",
        "\n",
        "<h4>Note:</h4>\n",
        "The output of torchvision datasets are PILImage images of range [0, 1].\n",
        "We transform them to Tensors of normalized range [-1, 1]."
      ]
    },
    {
      "cell_type": "code",
      "execution_count": 24,
      "metadata": {
        "id": "mqnizXadNh8b",
        "colab": {
          "base_uri": "https://localhost:8080/"
        },
        "outputId": "a91aa0ad-9771-4f1d-ebbe-8c8f4e8bd1c7"
      },
      "outputs": [
        {
          "output_type": "stream",
          "name": "stdout",
          "text": [
            "Downloading https://www.cs.toronto.edu/~kriz/cifar-10-python.tar.gz to ./data/cifar-10-python.tar.gz\n"
          ]
        },
        {
          "output_type": "stream",
          "name": "stderr",
          "text": [
            "100%|██████████| 170498071/170498071 [00:03<00:00, 48616290.46it/s]\n"
          ]
        },
        {
          "output_type": "stream",
          "name": "stdout",
          "text": [
            "Extracting ./data/cifar-10-python.tar.gz to ./data/\n",
            "Files already downloaded and verified\n"
          ]
        }
      ],
      "source": [
        "from torchvision import transforms, datasets\n",
        "\n",
        "classes = ('plane', 'car', 'bird', 'cat', 'deer', 'dog', 'frog', 'horse', \n",
        "           'ship', 'truck')\n",
        "transform = transforms.Compose(\n",
        "    [transforms.ToTensor(),\n",
        "     transforms.Normalize((0.5, 0.5, 0.5), (0.5, 0.5, 0.5))])\n",
        "\n",
        "cifar10_trainset = datasets.CIFAR10(root='./data/', train=True, download=True, transform=transform)\n",
        "cifar10_testset = datasets.CIFAR10(root='./data/', train=False, download=True, transform=transform)\n",
        "\n",
        "cifar_loader = DataLoader(cifar10_trainset, batch_size=len(cifar10_trainset), shuffle=False)\n",
        "cifar_test_loader = DataLoader(cifar10_testset, batch_size=len(cifar10_testset), shuffle=False)"
      ]
    },
    {
      "cell_type": "code",
      "execution_count": 25,
      "metadata": {
        "id": "igESHithODja",
        "colab": {
          "base_uri": "https://localhost:8080/",
          "height": 675
        },
        "outputId": "c4704419-810f-41e0-8b8a-636782c6666e"
      },
      "outputs": [
        {
          "output_type": "display_data",
          "data": {
            "text/plain": [
              "<Figure size 800x800 with 9 Axes>"
            ],
            "image/png": "[encoded data removed]"
          },
          "metadata": {}
        }
      ],
      "source": [
        "import numpy as np\n",
        "import matplotlib.pyplot as plt\n",
        "from matplotlib import cm\n",
        "\n",
        "def cifar_imshow(img):\n",
        "  img = img / 2 + 0.5     # unnormalize\n",
        "  npimg = img.numpy()\n",
        "  return np.transpose(npimg, (1, 2, 0))\n",
        "\n",
        "# TODO: visualize some samples in the CIFAR-10 dataset\n",
        "fig, axs = plt.subplots(nrows=3, ncols=3, figsize=(8, 8))\n",
        "for i, ax in enumerate(axs.flat):\n",
        "  img, label = cifar10_trainset[i]\n",
        "  # Denormalize\n",
        "  img = img / 2 + 0.5\n",
        "  ax.imshow(img.permute(1, 2, 0))\n",
        "  ax.axis('off')\n",
        "  ax.set_title(cifar10_trainset.classes[label])"
      ]
    },
    {
      "cell_type": "markdown",
      "metadata": {
        "id": "Qc4DHtXvjocy"
      },
      "source": [
        "#### Data Augmentation"
      ]
    },
    {
      "cell_type": "code",
      "execution_count": 26,
      "metadata": {
        "id": "IhG9dwnLjs-J",
        "colab": {
          "base_uri": "https://localhost:8080/"
        },
        "outputId": "8eca32eb-19ed-4816-932a-c1a8d6d66a09"
      },
      "outputs": [
        {
          "output_type": "stream",
          "name": "stdout",
          "text": [
            "Files already downloaded and verified\n",
            "Files already downloaded and verified\n",
            "Files already downloaded and verified\n",
            "Files already downloaded and verified\n",
            "Files already downloaded and verified\n",
            "Files already downloaded and verified\n"
          ]
        }
      ],
      "source": [
        "from torch.utils.data import ConcatDataset\n",
        "\n",
        "transform1 = transforms.Compose(\n",
        "    [transforms.ToTensor(),\n",
        "    transforms.Normalize((0.5, 0.5, 0.5), (0.5, 0.5, 0.5))])\n",
        "\n",
        "# todo: Implements transforms\n",
        "\n",
        "# Shifting: randomly shift the images up/down and left/right by within 10%.\n",
        "transform2 = transforms.Compose(\n",
        "    [transforms.RandomAffine(degrees=0, translate=(0.1,0.1)),\n",
        "    transforms.ToTensor(),\n",
        "    transforms.Normalize((0.5, 0.5, 0.5), (0.5, 0.5, 0.5))])\n",
        "\n",
        "# Rotating: randomly rotate the images by some angles.\n",
        "transform3 = transforms.Compose(\n",
        "    [transforms.RandomRotation(degrees=45),\n",
        "    transforms.ToTensor(),\n",
        "    transforms.Normalize((0.5, 0.5, 0.5), (0.5, 0.5, 0.5))])\n",
        "\n",
        "# Flipping: horizontally flip the images.\n",
        "transform4 = transforms.Compose(\n",
        "    [transforms.RandomHorizontalFlip(p=1),\n",
        "    transforms.ToTensor(),\n",
        "    transforms.Normalize((0.5, 0.5, 0.5), (0.5, 0.5, 0.5))])\n",
        "\n",
        "# Adding Noise: randomly add some small Gaussian noise to the images.\n",
        "transform5 = transforms.Compose(\n",
        "    [transforms.ToTensor(),\n",
        "    transforms.Lambda(lambda x: x + torch.randn_like(x) * 0.3),\n",
        "    transforms.Normalize((0.5, 0.5, 0.5), (0.5, 0.5, 0.5))])\n",
        "\n",
        "transform_list = [transform1, transform2, transform3, transform4, transform5]\n",
        "augmented_dataset = []\n",
        "for t in transform_list:\n",
        "  augmented_dataset.append(datasets.CIFAR10(root='./data/', train=True, download=True, transform=t))\n",
        "\n",
        "cifar10_train_dataset = ConcatDataset(augmented_dataset)\n",
        "cifar10_testset = datasets.CIFAR10(root='./data/', train=False, download=True, transform=transform1)\n",
        "# Dataloader\n",
        "cifar_train_loader = DataLoader(cifar10_train_dataset, batch_size=256, shuffle=True)\n",
        "cifar_test_loader = DataLoader(cifar10_testset, batch_size=128, shuffle=False)"
      ]
    },
    {
      "cell_type": "markdown",
      "metadata": {
        "id": "oeOA4vRbV3Pq"
      },
      "source": [
        "Define a CNN to do classification on CIFAR-10 dataset. You can build a CNN from the previous problem and modify it to take 3-channel images (instead of 1-channel images as it was defined).\n",
        "\n",
        "**Note**: remember to keep the logs of training the different models."
      ]
    },
    {
      "cell_type": "markdown",
      "metadata": {
        "id": "FWIdpUo_n65F"
      },
      "source": [
        "(1) Define a CNN using PyTorch to do image classification. Develop the CNN from the previous PyTorch NN tutorial."
      ]
    },
    {
      "cell_type": "code",
      "source": [
        "# use GPU to train if possible\n",
        "device = torch.device(\"cuda:0\" if torch.cuda.is_available() else \"cpu\")\n",
        "print(device)"
      ],
      "metadata": {
        "colab": {
          "base_uri": "https://localhost:8080/"
        },
        "id": "ca9Wj8WS_2LG",
        "outputId": "776509cb-ef88-4a36-b86b-28fc0643f5d1"
      },
      "execution_count": 27,
      "outputs": [
        {
          "output_type": "stream",
          "name": "stdout",
          "text": [
            "cuda:0\n"
          ]
        }
      ]
    },
    {
      "cell_type": "markdown",
      "source": [
        "### CNN1\n",
        "○ # of conv: 2\n",
        "\n",
        "○ # of pool: 2\n",
        "\n",
        "○ Kernel size (conv): 5x5\n",
        "\n",
        "○ Stride (cov): 1x1\n",
        "\n",
        "○ Dilation: 1x1\n",
        "\n",
        "○ Dropout in FC: 0%\n",
        "\n",
        "○ FC layer : 120 -> 84 -> 10"
      ],
      "metadata": {
        "id": "YWBX4YGs7Aud"
      }
    },
    {
      "cell_type": "code",
      "execution_count": 28,
      "metadata": {
        "id": "TzXPX4rm7Epz"
      },
      "outputs": [],
      "source": [
        "import torch.nn as nn\n",
        "import torch.nn.functional as F\n",
        "\n",
        "class CNN1(nn.Module):\n",
        "  def __init__(self):\n",
        "    super().__init__()\n",
        "    # TODO: define your CNN\n",
        "    self.cnn_layers = nn.Sequential(\n",
        "            nn.Conv2d(3, 6, 5, stride=1, dilation=1),\n",
        "            nn.ReLU(),\n",
        "            nn.MaxPool2d(kernel_size=2),\n",
        "            nn.Conv2d(6, 16, 5, stride=1,  dilation=1),\n",
        "            nn.ReLU(),\n",
        "            nn.MaxPool2d(kernel_size=2))\n",
        "    self.fc_layers = nn.Sequential(\n",
        "            nn.Linear(16*5*5, 120),\n",
        "            nn.ReLU(),\n",
        "            nn.Linear(120, 84),\n",
        "            nn.ReLU(),\n",
        "            nn.Linear(84, 10))\n",
        "\n",
        "  def forward(self, x):\n",
        "    # TODO: define your forward function\n",
        "    x = self.cnn_layers(x)\n",
        "    x = x.flatten(1)\n",
        "    x = self.fc_layers(x)\n",
        "    return x\n"
      ]
    },
    {
      "cell_type": "code",
      "source": [
        "cnn1 = CNN1().to(device)  # operate on GPU"
      ],
      "metadata": {
        "id": "uVcauYD4kLpM"
      },
      "execution_count": 29,
      "outputs": []
    },
    {
      "cell_type": "markdown",
      "metadata": {
        "id": "hfi4oC0bhHxg"
      },
      "source": [
        "Define a loss function and optimizer."
      ]
    },
    {
      "cell_type": "code",
      "execution_count": 30,
      "metadata": {
        "id": "lIikPKNI7Ep2"
      },
      "outputs": [],
      "source": [
        "import torch.optim as optim\n",
        "\n",
        "# TODO: you can change loss function and optimizer\n",
        "criterion = nn.CrossEntropyLoss()\n",
        "optimizer = optim.Adam(cnn1.parameters(), lr=0.001, betas=(0.9, 0.999), eps=1e-08, weight_decay=0)"
      ]
    },
    {
      "cell_type": "markdown",
      "metadata": {
        "id": "bzvExFSVhL3x"
      },
      "source": [
        "Train the network."
      ]
    },
    {
      "cell_type": "code",
      "execution_count": null,
      "metadata": {
        "id": "uWjbkl5o7Ep5",
        "colab": {
          "base_uri": "https://localhost:8080/"
        },
        "outputId": "0152fceb-2626-4fc3-8ba0-72b8ffbdfa2e"
      },
      "outputs": [
        {
          "output_type": "stream",
          "name": "stderr",
          "text": [
            "Training...: 100%|██████████| 977/977 [01:38<00:00,  9.92it/s, Batch average loss=1.4429]\n"
          ]
        },
        {
          "output_type": "stream",
          "name": "stdout",
          "text": [
            "Epoch 1 | Average train loss: 1.5880 / Average train Acc: 0.4260 \n",
            "\n"
          ]
        },
        {
          "output_type": "stream",
          "name": "stderr",
          "text": [
            "Training...: 100%|██████████| 977/977 [01:34<00:00, 10.38it/s, Batch average loss=1.3206]\n"
          ]
        },
        {
          "output_type": "stream",
          "name": "stdout",
          "text": [
            "Epoch 2 | Average train loss: 1.3339 / Average train Acc: 0.5210 \n",
            "\n"
          ]
        },
        {
          "output_type": "stream",
          "name": "stderr",
          "text": [
            "Training...: 100%|██████████| 977/977 [01:32<00:00, 10.57it/s, Batch average loss=1.1985]\n"
          ]
        },
        {
          "output_type": "stream",
          "name": "stdout",
          "text": [
            "Epoch 3 | Average train loss: 1.2400 / Average train Acc: 0.5581 \n",
            "\n"
          ]
        },
        {
          "output_type": "stream",
          "name": "stderr",
          "text": [
            "Training...: 100%|██████████| 977/977 [01:31<00:00, 10.63it/s, Batch average loss=1.1112]\n"
          ]
        },
        {
          "output_type": "stream",
          "name": "stdout",
          "text": [
            "Epoch 4 | Average train loss: 1.1795 / Average train Acc: 0.5814 \n",
            "\n"
          ]
        },
        {
          "output_type": "stream",
          "name": "stderr",
          "text": [
            "Training...: 100%|██████████| 977/977 [01:30<00:00, 10.77it/s, Batch average loss=1.1478]\n"
          ]
        },
        {
          "output_type": "stream",
          "name": "stdout",
          "text": [
            "Epoch 5 | Average train loss: 1.1338 / Average train Acc: 0.5982 \n",
            "\n"
          ]
        },
        {
          "output_type": "stream",
          "name": "stderr",
          "text": [
            "Training...: 100%|██████████| 977/977 [01:30<00:00, 10.77it/s, Batch average loss=1.1086]\n"
          ]
        },
        {
          "output_type": "stream",
          "name": "stdout",
          "text": [
            "Epoch 6 | Average train loss: 1.1025 / Average train Acc: 0.6104 \n",
            "\n"
          ]
        },
        {
          "output_type": "stream",
          "name": "stderr",
          "text": [
            "Training...: 100%|██████████| 977/977 [01:32<00:00, 10.54it/s, Batch average loss=1.0048]\n"
          ]
        },
        {
          "output_type": "stream",
          "name": "stdout",
          "text": [
            "Epoch 7 | Average train loss: 1.0767 / Average train Acc: 0.6199 \n",
            "\n"
          ]
        },
        {
          "output_type": "stream",
          "name": "stderr",
          "text": [
            "Training...: 100%|██████████| 977/977 [01:29<00:00, 10.86it/s, Batch average loss=1.0751]\n"
          ]
        },
        {
          "output_type": "stream",
          "name": "stdout",
          "text": [
            "Epoch 8 | Average train loss: 1.0534 / Average train Acc: 0.6284 \n",
            "\n"
          ]
        },
        {
          "output_type": "stream",
          "name": "stderr",
          "text": [
            "Training...: 100%|██████████| 977/977 [01:30<00:00, 10.75it/s, Batch average loss=1.0740]\n"
          ]
        },
        {
          "output_type": "stream",
          "name": "stdout",
          "text": [
            "Epoch 9 | Average train loss: 1.0354 / Average train Acc: 0.6338 \n",
            "\n"
          ]
        },
        {
          "output_type": "stream",
          "name": "stderr",
          "text": [
            "Training...: 100%|██████████| 977/977 [01:32<00:00, 10.60it/s, Batch average loss=1.0486]"
          ]
        },
        {
          "output_type": "stream",
          "name": "stdout",
          "text": [
            "Epoch 10 | Average train loss: 1.0222 / Average train Acc: 0.6393 \n",
            "\n"
          ]
        },
        {
          "output_type": "stream",
          "name": "stderr",
          "text": [
            "\n"
          ]
        }
      ],
      "source": [
        "# todo: use your train() to train your cnn1\n",
        "n_epoch = 10\n",
        "# todo: use your train() to train the model\n",
        "for epoch in range(n_epoch):\n",
        "  cnn1_avg_train_loss, cnn1_avg_train_acc = train(cnn1, criterion, optimizer, cifar_train_loader)\n",
        "  print(f\"Epoch {epoch+1} | Average train loss: {cnn1_avg_train_loss:.4f} / Average train Acc: {cnn1_avg_train_acc:.4f} \\n\")"
      ]
    },
    {
      "cell_type": "code",
      "source": [
        "PATH_cnn1 = '/content/gdrive/MyDrive/DLBVD/HW2/cnn1_cifar.pth'"
      ],
      "metadata": {
        "id": "FQutijvmHVaa"
      },
      "execution_count": 31,
      "outputs": []
    },
    {
      "cell_type": "markdown",
      "source": [
        "Optional : Save the trained model"
      ],
      "metadata": {
        "id": "DpxiPCfBzcVY"
      }
    },
    {
      "cell_type": "code",
      "source": [
        "torch.save(cnn1.state_dict(), PATH_cnn1)"
      ],
      "metadata": {
        "id": "3WMzoVMEHfcJ"
      },
      "execution_count": null,
      "outputs": []
    },
    {
      "cell_type": "markdown",
      "source": [
        "Load back in our saved model"
      ],
      "metadata": {
        "id": "HFr2b3HPzZK9"
      }
    },
    {
      "cell_type": "code",
      "source": [
        "cnn1 = CNN1().to(device)\n",
        "cnn1.load_state_dict(torch.load(PATH_cnn1))"
      ],
      "metadata": {
        "colab": {
          "base_uri": "https://localhost:8080/"
        },
        "id": "Z8ilDzinHnLG",
        "outputId": "4bddf256-8940-4d6e-e929-8c3b6937bd66"
      },
      "execution_count": 32,
      "outputs": [
        {
          "output_type": "execute_result",
          "data": {
            "text/plain": [
              "<All keys matched successfully>"
            ]
          },
          "metadata": {},
          "execution_count": 32
        }
      ]
    },
    {
      "cell_type": "markdown",
      "metadata": {
        "id": "-RGeRQxR7EqG"
      },
      "source": [
        "Evaluate the classfication performance on the testing set."
      ]
    },
    {
      "cell_type": "code",
      "source": [
        "print(cnn1)"
      ],
      "metadata": {
        "colab": {
          "base_uri": "https://localhost:8080/"
        },
        "id": "DPOTMr0kdlrU",
        "outputId": "d7baf94a-629f-4ad4-ae3e-ac59c138cbfa"
      },
      "execution_count": 33,
      "outputs": [
        {
          "output_type": "stream",
          "name": "stdout",
          "text": [
            "CNN1(\n",
            "  (cnn_layers): Sequential(\n",
            "    (0): Conv2d(3, 6, kernel_size=(5, 5), stride=(1, 1))\n",
            "    (1): ReLU()\n",
            "    (2): MaxPool2d(kernel_size=2, stride=2, padding=0, dilation=1, ceil_mode=False)\n",
            "    (3): Conv2d(6, 16, kernel_size=(5, 5), stride=(1, 1))\n",
            "    (4): ReLU()\n",
            "    (5): MaxPool2d(kernel_size=2, stride=2, padding=0, dilation=1, ceil_mode=False)\n",
            "  )\n",
            "  (fc_layers): Sequential(\n",
            "    (0): Linear(in_features=400, out_features=120, bias=True)\n",
            "    (1): ReLU()\n",
            "    (2): Linear(in_features=120, out_features=84, bias=True)\n",
            "    (3): ReLU()\n",
            "    (4): Linear(in_features=84, out_features=10, bias=True)\n",
            "  )\n",
            ")\n"
          ]
        }
      ]
    },
    {
      "cell_type": "code",
      "execution_count": 34,
      "metadata": {
        "id": "9IERp19p7EqH",
        "colab": {
          "base_uri": "https://localhost:8080/"
        },
        "outputId": "c548891f-4a6c-4112-a70c-2967cd6f5533"
      },
      "outputs": [
        {
          "output_type": "stream",
          "name": "stderr",
          "text": [
            "100%|██████████| 79/79 [00:02<00:00, 28.35it/s]"
          ]
        },
        {
          "output_type": "stream",
          "name": "stdout",
          "text": [
            "Average test loss: 0.9881 | Average test Acc: 0.6537\n"
          ]
        },
        {
          "output_type": "stream",
          "name": "stderr",
          "text": [
            "\n"
          ]
        }
      ],
      "source": [
        "# todo: use your test() to test your cnn1\n",
        "cnn1_test_pred, cnn1_test_avloss, cnn1_test_avacc = test(cnn1, criterion, cifar_test_loader, label=True)"
      ]
    },
    {
      "cell_type": "markdown",
      "metadata": {
        "id": "CFCCqT5LAJ29"
      },
      "source": [
        "(2) Try different network parameters/configurations (at least 5 combinations). \n",
        "\n",
        "You should try to achieve at least **80%** accuracy on the CIFAR-10 testing set using one of your network configuration.\n"
      ]
    },
    {
      "cell_type": "markdown",
      "metadata": {
        "id": "S2RLIjq3nfoC"
      },
      "source": [
        "Performances using different configurations\n",
        "\n",
        "todo: past your performance v.s different network configurations in a table."
      ]
    },
    {
      "cell_type": "markdown",
      "source": [
        "### CNN2\n",
        "○ # of conv: 2\n",
        "\n",
        "○ # of pool: 2\n",
        "\n",
        "○ Kernel size (conv): 5x5\n",
        "\n",
        "○ Stride (cov): 1x1\n",
        "\n",
        "○ Dilation: 1x1\n",
        "\n",
        "○ Dropout in FC: 30%\n",
        "\n",
        "○ FC layer : 120 -> 84 -> 10"
      ],
      "metadata": {
        "id": "UoAh2n2e7l0d"
      }
    },
    {
      "cell_type": "code",
      "source": [
        "class CNN2(nn.Module):\n",
        "  def __init__(self):\n",
        "    super().__init__()\n",
        "    # TODO: define your CNN\n",
        "    self.cnn_layers = nn.Sequential(\n",
        "            nn.Conv2d(3, 6, 5, stride=1, dilation=1),\n",
        "            nn.ReLU(),\n",
        "            nn.MaxPool2d(kernel_size=2),\n",
        "            nn.Conv2d(6, 16, 5, stride=1,  dilation=1),\n",
        "            nn.ReLU(),\n",
        "            nn.MaxPool2d(kernel_size=2))\n",
        "    self.fc_layers = nn.Sequential(\n",
        "            nn.Linear(16*5*5, 120),\n",
        "            nn.ReLU(),\n",
        "            nn.Dropout(p=0.3),\n",
        "            nn.Linear(120, 84),\n",
        "            nn.ReLU(),\n",
        "            nn.Dropout(p=0.3),\n",
        "            nn.Linear(84, 10))\n",
        "\n",
        "  def forward(self, x):\n",
        "    # TODO: define your forward function\n",
        "    x = self.cnn_layers(x)\n",
        "    x = x.flatten(1)\n",
        "    x = self.fc_layers(x)\n",
        "    return x\n"
      ],
      "metadata": {
        "id": "0R8cQ7ug4qRE"
      },
      "execution_count": 35,
      "outputs": []
    },
    {
      "cell_type": "code",
      "source": [
        "cnn2 = CNN2().to(device)  # operate on GPU"
      ],
      "metadata": {
        "id": "6XL3VKlokOS2"
      },
      "execution_count": 36,
      "outputs": []
    },
    {
      "cell_type": "code",
      "source": [
        "# TODO: you can change loss function and optimizer\n",
        "criterion = nn.CrossEntropyLoss()\n",
        "optimizer = optim.Adam(cnn2.parameters(), lr=0.001, betas=(0.9, 0.999), eps=1e-08, weight_decay=0)"
      ],
      "metadata": {
        "id": "EvOMYen2Ijpg"
      },
      "execution_count": 37,
      "outputs": []
    },
    {
      "cell_type": "markdown",
      "source": [
        "Train the network"
      ],
      "metadata": {
        "id": "ycjVI6uf72vR"
      }
    },
    {
      "cell_type": "code",
      "source": [
        "# todo: use your train() to train your cnn1\n",
        "n_epoch = 10\n",
        "# todo: use your train() to train the model\n",
        "for epoch in range(n_epoch):\n",
        "  cnn2_avg_train_loss, cnn2_avg_train_acc = train(cnn2, criterion, optimizer, cifar_train_loader)\n",
        "  print(f\"Epoch {epoch+1} | Average train loss: {cnn2_avg_train_loss:.4f} / Average train Acc: {cnn2_avg_train_acc:.4f} \\n\")"
      ],
      "metadata": {
        "colab": {
          "base_uri": "https://localhost:8080/"
        },
        "id": "akJgVanu7ubi",
        "outputId": "238b4534-8fea-46e5-fbe5-2721217c1cf2"
      },
      "execution_count": null,
      "outputs": [
        {
          "output_type": "stream",
          "name": "stderr",
          "text": [
            "Training...: 100%|██████████| 977/977 [01:31<00:00, 10.67it/s, Batch average loss=1.4272]\n"
          ]
        },
        {
          "output_type": "stream",
          "name": "stdout",
          "text": [
            "Epoch 1 | Average train loss: 1.6566 / Average train Acc: 0.3961 \n",
            "\n"
          ]
        },
        {
          "output_type": "stream",
          "name": "stderr",
          "text": [
            "Training...: 100%|██████████| 977/977 [01:31<00:00, 10.65it/s, Batch average loss=1.4977]\n"
          ]
        },
        {
          "output_type": "stream",
          "name": "stdout",
          "text": [
            "Epoch 2 | Average train loss: 1.4300 / Average train Acc: 0.4880 \n",
            "\n"
          ]
        },
        {
          "output_type": "stream",
          "name": "stderr",
          "text": [
            "Training...: 100%|██████████| 977/977 [01:33<00:00, 10.44it/s, Batch average loss=1.3505]\n"
          ]
        },
        {
          "output_type": "stream",
          "name": "stdout",
          "text": [
            "Epoch 3 | Average train loss: 1.3539 / Average train Acc: 0.5176 \n",
            "\n"
          ]
        },
        {
          "output_type": "stream",
          "name": "stderr",
          "text": [
            "Training...: 100%|██████████| 977/977 [01:32<00:00, 10.61it/s, Batch average loss=1.2668]\n"
          ]
        },
        {
          "output_type": "stream",
          "name": "stdout",
          "text": [
            "Epoch 4 | Average train loss: 1.3072 / Average train Acc: 0.5365 \n",
            "\n"
          ]
        },
        {
          "output_type": "stream",
          "name": "stderr",
          "text": [
            "Training...: 100%|██████████| 977/977 [01:34<00:00, 10.32it/s, Batch average loss=1.2930]\n"
          ]
        },
        {
          "output_type": "stream",
          "name": "stdout",
          "text": [
            "Epoch 5 | Average train loss: 1.2724 / Average train Acc: 0.5494 \n",
            "\n"
          ]
        },
        {
          "output_type": "stream",
          "name": "stderr",
          "text": [
            "Training...: 100%|██████████| 977/977 [01:32<00:00, 10.56it/s, Batch average loss=1.1089]\n"
          ]
        },
        {
          "output_type": "stream",
          "name": "stdout",
          "text": [
            "Epoch 6 | Average train loss: 1.2527 / Average train Acc: 0.5576 \n",
            "\n"
          ]
        },
        {
          "output_type": "stream",
          "name": "stderr",
          "text": [
            "Training...: 100%|██████████| 977/977 [01:34<00:00, 10.38it/s, Batch average loss=1.2320]\n"
          ]
        },
        {
          "output_type": "stream",
          "name": "stdout",
          "text": [
            "Epoch 7 | Average train loss: 1.2332 / Average train Acc: 0.5647 \n",
            "\n"
          ]
        },
        {
          "output_type": "stream",
          "name": "stderr",
          "text": [
            "Training...: 100%|██████████| 977/977 [01:35<00:00, 10.27it/s, Batch average loss=1.3051]\n"
          ]
        },
        {
          "output_type": "stream",
          "name": "stdout",
          "text": [
            "Epoch 8 | Average train loss: 1.2215 / Average train Acc: 0.5689 \n",
            "\n"
          ]
        },
        {
          "output_type": "stream",
          "name": "stderr",
          "text": [
            "Training...: 100%|██████████| 977/977 [01:33<00:00, 10.41it/s, Batch average loss=1.0774]\n"
          ]
        },
        {
          "output_type": "stream",
          "name": "stdout",
          "text": [
            "Epoch 9 | Average train loss: 1.2128 / Average train Acc: 0.5736 \n",
            "\n"
          ]
        },
        {
          "output_type": "stream",
          "name": "stderr",
          "text": [
            "Training...: 100%|██████████| 977/977 [01:33<00:00, 10.47it/s, Batch average loss=1.0755]"
          ]
        },
        {
          "output_type": "stream",
          "name": "stdout",
          "text": [
            "Epoch 10 | Average train loss: 1.2024 / Average train Acc: 0.5773 \n",
            "\n"
          ]
        },
        {
          "output_type": "stream",
          "name": "stderr",
          "text": [
            "\n"
          ]
        }
      ]
    },
    {
      "cell_type": "code",
      "source": [
        "PATH_cnn2 = '/content/gdrive/MyDrive/DLBVD/HW2/cnn2_cifar.pth'"
      ],
      "metadata": {
        "id": "QK8V1Uja8KTl"
      },
      "execution_count": 38,
      "outputs": []
    },
    {
      "cell_type": "markdown",
      "source": [
        "Optional : Save the trained model"
      ],
      "metadata": {
        "id": "v8YMscnx8bmb"
      }
    },
    {
      "cell_type": "code",
      "source": [
        "torch.save(cnn2.state_dict(), PATH_cnn2)"
      ],
      "metadata": {
        "id": "S70FrBRg8Qnu"
      },
      "execution_count": null,
      "outputs": []
    },
    {
      "cell_type": "markdown",
      "source": [
        "Load back in our saved model"
      ],
      "metadata": {
        "id": "6KDtoNJU8fRD"
      }
    },
    {
      "cell_type": "code",
      "source": [
        "cnn2 = CNN2().to(device)\n",
        "cnn2.load_state_dict(torch.load(PATH_cnn2))"
      ],
      "metadata": {
        "colab": {
          "base_uri": "https://localhost:8080/"
        },
        "id": "InrhjEdG8SvI",
        "outputId": "3f0a4c4f-8731-43d4-dd7c-46005df9b51e"
      },
      "execution_count": 39,
      "outputs": [
        {
          "output_type": "execute_result",
          "data": {
            "text/plain": [
              "<All keys matched successfully>"
            ]
          },
          "metadata": {},
          "execution_count": 39
        }
      ]
    },
    {
      "cell_type": "markdown",
      "source": [
        "Evaluate the classfication performance on the testing set."
      ],
      "metadata": {
        "id": "Z7XVAgZ-8pAL"
      }
    },
    {
      "cell_type": "code",
      "source": [
        "print(cnn2)"
      ],
      "metadata": {
        "colab": {
          "base_uri": "https://localhost:8080/"
        },
        "id": "vceSVbBXd16l",
        "outputId": "7f1504d0-3b8b-418e-d142-0ca5f7350ce2"
      },
      "execution_count": 40,
      "outputs": [
        {
          "output_type": "stream",
          "name": "stdout",
          "text": [
            "CNN2(\n",
            "  (cnn_layers): Sequential(\n",
            "    (0): Conv2d(3, 6, kernel_size=(5, 5), stride=(1, 1))\n",
            "    (1): ReLU()\n",
            "    (2): MaxPool2d(kernel_size=2, stride=2, padding=0, dilation=1, ceil_mode=False)\n",
            "    (3): Conv2d(6, 16, kernel_size=(5, 5), stride=(1, 1))\n",
            "    (4): ReLU()\n",
            "    (5): MaxPool2d(kernel_size=2, stride=2, padding=0, dilation=1, ceil_mode=False)\n",
            "  )\n",
            "  (fc_layers): Sequential(\n",
            "    (0): Linear(in_features=400, out_features=120, bias=True)\n",
            "    (1): ReLU()\n",
            "    (2): Dropout(p=0.3, inplace=False)\n",
            "    (3): Linear(in_features=120, out_features=84, bias=True)\n",
            "    (4): ReLU()\n",
            "    (5): Dropout(p=0.3, inplace=False)\n",
            "    (6): Linear(in_features=84, out_features=10, bias=True)\n",
            "  )\n",
            ")\n"
          ]
        }
      ]
    },
    {
      "cell_type": "code",
      "source": [
        "# todo: use your test() to test your cnn1\n",
        "cnn2_test_pred, cnn2_test_avloss, cnn2_test_avacc = test(cnn2, criterion, cifar_test_loader, label=True)"
      ],
      "metadata": {
        "colab": {
          "base_uri": "https://localhost:8080/"
        },
        "id": "6coXr9mu8hus",
        "outputId": "300814f9-7b21-4bd4-eeca-ab8f71f8ef86"
      },
      "execution_count": 41,
      "outputs": [
        {
          "output_type": "stream",
          "name": "stderr",
          "text": [
            "100%|██████████| 79/79 [00:02<00:00, 29.45it/s]"
          ]
        },
        {
          "output_type": "stream",
          "name": "stdout",
          "text": [
            "Average test loss: 1.0101 | Average test Acc: 0.6425\n"
          ]
        },
        {
          "output_type": "stream",
          "name": "stderr",
          "text": [
            "\n"
          ]
        }
      ]
    },
    {
      "cell_type": "markdown",
      "source": [
        "### CNN3\n",
        "○ # of conv: 5\n",
        "\n",
        "○ # of pool: 1\n",
        "\n",
        "○ Kernel size (conv): 5x5\n",
        "\n",
        "○ Stride (cov): 1x1\n",
        "\n",
        "○ Dilation: 1x1\n",
        "\n",
        "○ Dropout in FC: 0%\n",
        "\n",
        "○ FC layer : 120 -> 84 -> 10"
      ],
      "metadata": {
        "id": "XOZ7Ox0l87Zx"
      }
    },
    {
      "cell_type": "code",
      "source": [
        "class CNN3(nn.Module):\n",
        "  def __init__(self):\n",
        "    super().__init__()\n",
        "    # TODO: define your CNN\n",
        "    self.cnn_layers = nn.Sequential(\n",
        "            nn.Conv2d(3, 6, 5, stride=1, dilation=1),\n",
        "            nn.ReLU(),\n",
        "            nn.Conv2d(6, 16, 5, stride=1,  dilation=1),\n",
        "            nn.ReLU(),\n",
        "            nn.Conv2d(16, 26, 5, stride=1,  dilation=1),\n",
        "            nn.ReLU(),\n",
        "            nn.MaxPool2d(kernel_size=2),\n",
        "            nn.Conv2d(26, 36, 5, stride=1,  dilation=1),\n",
        "            nn.ReLU(),\n",
        "            nn.Conv2d(36, 46, 5, stride=1,  dilation=1),\n",
        "            nn.ReLU())\n",
        "\n",
        "\n",
        "    self.fc_layers = nn.Sequential(\n",
        "            nn.Linear(46*2*2, 120),\n",
        "            nn.ReLU(),\n",
        "            nn.Linear(120, 84),\n",
        "            nn.ReLU(),\n",
        "            nn.Linear(84, 10))\n",
        "\n",
        "  def forward(self, x):\n",
        "    # TODO: define your forward function\n",
        "    x = self.cnn_layers(x)\n",
        "    x = x.flatten(1)\n",
        "    x = self.fc_layers(x)\n",
        "    return x\n"
      ],
      "metadata": {
        "id": "v1Poqswc9S8m"
      },
      "execution_count": 42,
      "outputs": []
    },
    {
      "cell_type": "code",
      "source": [
        "cnn3 = CNN3().to(device)  # operate on GPU"
      ],
      "metadata": {
        "id": "mjvYuOHekQ-N"
      },
      "execution_count": 43,
      "outputs": []
    },
    {
      "cell_type": "code",
      "source": [
        "# TODO: you can change loss function and optimizer\n",
        "criterion = nn.CrossEntropyLoss()\n",
        "optimizer = optim.Adam(cnn3.parameters(), lr=0.001, betas=(0.9, 0.999), eps=1e-08, weight_decay=0)"
      ],
      "metadata": {
        "id": "fZ76PrxPl9zB"
      },
      "execution_count": 44,
      "outputs": []
    },
    {
      "cell_type": "code",
      "source": [
        "# todo: use your train() to train your cnn1\n",
        "n_epoch = 10\n",
        "# todo: use your train() to train the model\n",
        "for epoch in range(n_epoch):\n",
        "  cnn3_avg_train_loss, cnn3_avg_train_acc = train(cnn3, criterion, optimizer, cifar_train_loader)\n",
        "  print(f\"Epoch {epoch+1} | Average train loss: {cnn3_avg_train_loss:.4f} / Average train Acc: {cnn3_avg_train_acc:.4f} \\n\")"
      ],
      "metadata": {
        "colab": {
          "base_uri": "https://localhost:8080/"
        },
        "id": "gkQvU5YG9S6z",
        "outputId": "7aa37496-52d9-4da5-affe-ae4ab6f48165"
      },
      "execution_count": 47,
      "outputs": [
        {
          "output_type": "stream",
          "name": "stderr",
          "text": [
            "Training...: 100%|██████████| 977/977 [01:58<00:00,  8.22it/s, Batch average loss=1.4856]\n"
          ]
        },
        {
          "output_type": "stream",
          "name": "stdout",
          "text": [
            "Epoch 1 | Average train loss: 1.6600 / Average train Acc: 0.3826 \n",
            "\n"
          ]
        },
        {
          "output_type": "stream",
          "name": "stderr",
          "text": [
            "Training...: 100%|██████████| 977/977 [01:52<00:00,  8.70it/s, Batch average loss=1.3839]\n"
          ]
        },
        {
          "output_type": "stream",
          "name": "stdout",
          "text": [
            "Epoch 2 | Average train loss: 1.3725 / Average train Acc: 0.5001 \n",
            "\n"
          ]
        },
        {
          "output_type": "stream",
          "name": "stderr",
          "text": [
            "Training...: 100%|██████████| 977/977 [01:50<00:00,  8.83it/s, Batch average loss=1.2742]\n"
          ]
        },
        {
          "output_type": "stream",
          "name": "stdout",
          "text": [
            "Epoch 3 | Average train loss: 1.2704 / Average train Acc: 0.5409 \n",
            "\n"
          ]
        },
        {
          "output_type": "stream",
          "name": "stderr",
          "text": [
            "Training...: 100%|██████████| 977/977 [01:52<00:00,  8.65it/s, Batch average loss=1.1961]\n"
          ]
        },
        {
          "output_type": "stream",
          "name": "stdout",
          "text": [
            "Epoch 4 | Average train loss: 1.2050 / Average train Acc: 0.5660 \n",
            "\n"
          ]
        },
        {
          "output_type": "stream",
          "name": "stderr",
          "text": [
            "Training...: 100%|██████████| 977/977 [01:51<00:00,  8.78it/s, Batch average loss=1.1182]\n"
          ]
        },
        {
          "output_type": "stream",
          "name": "stdout",
          "text": [
            "Epoch 5 | Average train loss: 1.1621 / Average train Acc: 0.5832 \n",
            "\n"
          ]
        },
        {
          "output_type": "stream",
          "name": "stderr",
          "text": [
            "Training...: 100%|██████████| 977/977 [01:52<00:00,  8.67it/s, Batch average loss=1.0393]\n"
          ]
        },
        {
          "output_type": "stream",
          "name": "stdout",
          "text": [
            "Epoch 6 | Average train loss: 1.1277 / Average train Acc: 0.5962 \n",
            "\n"
          ]
        },
        {
          "output_type": "stream",
          "name": "stderr",
          "text": [
            "Training...: 100%|██████████| 977/977 [01:52<00:00,  8.71it/s, Batch average loss=1.2233]\n"
          ]
        },
        {
          "output_type": "stream",
          "name": "stdout",
          "text": [
            "Epoch 7 | Average train loss: 1.1034 / Average train Acc: 0.6056 \n",
            "\n"
          ]
        },
        {
          "output_type": "stream",
          "name": "stderr",
          "text": [
            "Training...: 100%|██████████| 977/977 [01:51<00:00,  8.74it/s, Batch average loss=1.0264]\n"
          ]
        },
        {
          "output_type": "stream",
          "name": "stdout",
          "text": [
            "Epoch 8 | Average train loss: 1.0797 / Average train Acc: 0.6153 \n",
            "\n"
          ]
        },
        {
          "output_type": "stream",
          "name": "stderr",
          "text": [
            "Training...: 100%|██████████| 977/977 [01:51<00:00,  8.77it/s, Batch average loss=1.1157]\n"
          ]
        },
        {
          "output_type": "stream",
          "name": "stdout",
          "text": [
            "Epoch 9 | Average train loss: 1.0659 / Average train Acc: 0.6190 \n",
            "\n"
          ]
        },
        {
          "output_type": "stream",
          "name": "stderr",
          "text": [
            "Training...: 100%|██████████| 977/977 [01:50<00:00,  8.81it/s, Batch average loss=1.0911]"
          ]
        },
        {
          "output_type": "stream",
          "name": "stdout",
          "text": [
            "Epoch 10 | Average train loss: 1.0493 / Average train Acc: 0.6253 \n",
            "\n"
          ]
        },
        {
          "output_type": "stream",
          "name": "stderr",
          "text": [
            "\n"
          ]
        }
      ]
    },
    {
      "cell_type": "code",
      "source": [
        "PATH_cnn3 = '/content/gdrive/MyDrive/DLBVD/HW2/cnn3_cifar.pth'"
      ],
      "metadata": {
        "id": "RU6jfk6IjoAB"
      },
      "execution_count": 48,
      "outputs": []
    },
    {
      "cell_type": "markdown",
      "source": [
        "Optional : Save the trained model"
      ],
      "metadata": {
        "id": "4ms_vm8Sjvhr"
      }
    },
    {
      "cell_type": "code",
      "source": [
        "torch.save(cnn3.state_dict(), PATH_cnn3)"
      ],
      "metadata": {
        "id": "UfszQWn0jwDr"
      },
      "execution_count": 49,
      "outputs": []
    },
    {
      "cell_type": "markdown",
      "source": [
        "Load back in our saved model"
      ],
      "metadata": {
        "id": "UeEkZR79j0n_"
      }
    },
    {
      "cell_type": "code",
      "source": [
        "cnn3 = CNN3().to(device)\n",
        "cnn3.load_state_dict(torch.load(PATH_cnn3))"
      ],
      "metadata": {
        "colab": {
          "base_uri": "https://localhost:8080/"
        },
        "id": "UNp9GWLyj3RW",
        "outputId": "a2172aef-1fb0-45c7-b76f-68c868aa93fe"
      },
      "execution_count": 50,
      "outputs": [
        {
          "output_type": "execute_result",
          "data": {
            "text/plain": [
              "<All keys matched successfully>"
            ]
          },
          "metadata": {},
          "execution_count": 50
        }
      ]
    },
    {
      "cell_type": "markdown",
      "source": [
        "Evaluate the classfication performance on the testing set"
      ],
      "metadata": {
        "id": "oPfzeargj8pi"
      }
    },
    {
      "cell_type": "code",
      "source": [
        "print(cnn3)"
      ],
      "metadata": {
        "colab": {
          "base_uri": "https://localhost:8080/"
        },
        "id": "ApojbdHqeHc3",
        "outputId": "c9b3335b-1bf2-4e5d-f9ca-5660664a4263"
      },
      "execution_count": 51,
      "outputs": [
        {
          "output_type": "stream",
          "name": "stdout",
          "text": [
            "CNN3(\n",
            "  (cnn_layers): Sequential(\n",
            "    (0): Conv2d(3, 6, kernel_size=(5, 5), stride=(1, 1))\n",
            "    (1): ReLU()\n",
            "    (2): Conv2d(6, 16, kernel_size=(5, 5), stride=(1, 1))\n",
            "    (3): ReLU()\n",
            "    (4): Conv2d(16, 26, kernel_size=(5, 5), stride=(1, 1))\n",
            "    (5): ReLU()\n",
            "    (6): MaxPool2d(kernel_size=2, stride=2, padding=0, dilation=1, ceil_mode=False)\n",
            "    (7): Conv2d(26, 36, kernel_size=(5, 5), stride=(1, 1))\n",
            "    (8): ReLU()\n",
            "    (9): Conv2d(36, 46, kernel_size=(5, 5), stride=(1, 1))\n",
            "    (10): ReLU()\n",
            "  )\n",
            "  (fc_layers): Sequential(\n",
            "    (0): Linear(in_features=184, out_features=120, bias=True)\n",
            "    (1): ReLU()\n",
            "    (2): Linear(in_features=120, out_features=84, bias=True)\n",
            "    (3): ReLU()\n",
            "    (4): Linear(in_features=84, out_features=10, bias=True)\n",
            "  )\n",
            ")\n"
          ]
        }
      ]
    },
    {
      "cell_type": "code",
      "source": [
        "# todo: use your test() to test your cnn1\n",
        "cnn3_test_pred, cnn3_test_avloss, cnn3_test_avacc = test(cnn3, criterion, cifar_test_loader, label=True)"
      ],
      "metadata": {
        "id": "t_D3BBPm9Spy",
        "colab": {
          "base_uri": "https://localhost:8080/"
        },
        "outputId": "46142c46-8320-4aed-c0a0-1fdaf4c6167c"
      },
      "execution_count": 52,
      "outputs": [
        {
          "output_type": "stream",
          "name": "stderr",
          "text": [
            "100%|██████████| 79/79 [00:02<00:00, 26.83it/s]"
          ]
        },
        {
          "output_type": "stream",
          "name": "stdout",
          "text": [
            "Average test loss: 0.9549 | Average test Acc: 0.6649\n"
          ]
        },
        {
          "output_type": "stream",
          "name": "stderr",
          "text": [
            "\n"
          ]
        }
      ]
    },
    {
      "cell_type": "markdown",
      "source": [
        "### CNN4\n",
        "○ # of conv: 5\n",
        "\n",
        "○ # of pool: 2\n",
        "\n",
        "○ Kernel size (conv): 3x3\n",
        "\n",
        "○ Stride (cov): 1x1 and 3x3\n",
        "\n",
        "○ Dilation: 1x1\n",
        "\n",
        "○ Dropout in FC: 0%\n",
        "\n",
        "○ FC layer : 256 -> 84 -> 10"
      ],
      "metadata": {
        "id": "dKH4b7ozndg9"
      }
    },
    {
      "cell_type": "code",
      "source": [
        "class CNN4(nn.Module):\n",
        "  def __init__(self):\n",
        "    super().__init__()\n",
        "    # TODO: define your CNN\n",
        "    self.cnn_layers = nn.Sequential(\n",
        "            nn.Conv2d(3, 32, 3, stride=1, padding=1, dilation=1),\n",
        "            nn.ReLU(),\n",
        "            nn.MaxPool2d(kernel_size=2),\n",
        "            nn.Conv2d(32, 64, 3, stride=1, padding=1, dilation=1),\n",
        "            nn.ReLU(),\n",
        "            nn.Conv2d(64, 128, 3, stride=3, padding=1, dilation=1),\n",
        "            nn.ReLU(),\n",
        "            nn.MaxPool2d(kernel_size=2),\n",
        "            nn.Conv2d(128, 128, 3, stride=1, padding=1, dilation=1),\n",
        "            nn.ReLU(),\n",
        "            nn.Conv2d(128, 256, 3, stride=1, padding=1, dilation=1),\n",
        "            nn.ReLU())\n",
        "    \n",
        "    self.fc_layers = nn.Sequential(\n",
        "            nn.Linear(256*3*3, 256),\n",
        "            nn.ReLU(),\n",
        "            nn.Linear(256, 84),\n",
        "            nn.ReLU(),\n",
        "            nn.Linear(84, 10))\n",
        "\n",
        "  def forward(self, x):\n",
        "    # TODO: define your forward function\n",
        "    x = self.cnn_layers(x)\n",
        "    x = x.flatten(1)\n",
        "    x = self.fc_layers(x)\n",
        "    return x\n"
      ],
      "metadata": {
        "id": "rRN2XOY-nfF8"
      },
      "execution_count": 53,
      "outputs": []
    },
    {
      "cell_type": "code",
      "source": [
        "cnn4 = CNN4().to(device)  # operate on GPU"
      ],
      "metadata": {
        "id": "eLow1nOxkKKM"
      },
      "execution_count": 54,
      "outputs": []
    },
    {
      "cell_type": "code",
      "source": [
        "# TODO: you can change loss function and optimizer\n",
        "criterion = nn.CrossEntropyLoss()\n",
        "optimizer = optim.Adam(cnn4.parameters(), lr=0.001, betas=(0.9, 0.999), eps=1e-08, weight_decay=0)"
      ],
      "metadata": {
        "id": "8WJSlyOMkNXb"
      },
      "execution_count": 55,
      "outputs": []
    },
    {
      "cell_type": "code",
      "source": [
        "# todo: use your train() to train your cnn1\n",
        "n_epoch = 10\n",
        "# todo: use your train() to train the model\n",
        "for epoch in range(n_epoch):\n",
        "  cnn4_avg_train_loss, cnn4_avg_train_acc = train(cnn4, criterion, optimizer, cifar_train_loader)\n",
        "  print(f\"Epoch {epoch+1} | Average train loss: {cnn4_avg_train_loss:.4f} / Average train Acc: {cnn4_avg_train_acc:.4f} \\n\")"
      ],
      "metadata": {
        "colab": {
          "base_uri": "https://localhost:8080/"
        },
        "id": "oG4DYjvrkRIS",
        "outputId": "b5597f68-bac6-4989-8596-53de9d107ddd"
      },
      "execution_count": 24,
      "outputs": [
        {
          "output_type": "stream",
          "name": "stderr",
          "text": [
            "Training...: 100%|██████████| 977/977 [01:59<00:00,  8.20it/s, Batch average loss=1.0405]\n"
          ]
        },
        {
          "output_type": "stream",
          "name": "stdout",
          "text": [
            "Epoch 1 | Average train loss: 1.4631 / Average train Acc: 0.4652 \n",
            "\n"
          ]
        },
        {
          "output_type": "stream",
          "name": "stderr",
          "text": [
            "Training...: 100%|██████████| 977/977 [01:51<00:00,  8.80it/s, Batch average loss=0.9963]\n"
          ]
        },
        {
          "output_type": "stream",
          "name": "stdout",
          "text": [
            "Epoch 2 | Average train loss: 1.0344 / Average train Acc: 0.6303 \n",
            "\n"
          ]
        },
        {
          "output_type": "stream",
          "name": "stderr",
          "text": [
            "Training...: 100%|██████████| 977/977 [01:51<00:00,  8.75it/s, Batch average loss=0.8424]\n"
          ]
        },
        {
          "output_type": "stream",
          "name": "stdout",
          "text": [
            "Epoch 3 | Average train loss: 0.8660 / Average train Acc: 0.6918 \n",
            "\n"
          ]
        },
        {
          "output_type": "stream",
          "name": "stderr",
          "text": [
            "Training...: 100%|██████████| 977/977 [01:49<00:00,  8.89it/s, Batch average loss=0.7093]\n"
          ]
        },
        {
          "output_type": "stream",
          "name": "stdout",
          "text": [
            "Epoch 4 | Average train loss: 0.7524 / Average train Acc: 0.7329 \n",
            "\n"
          ]
        },
        {
          "output_type": "stream",
          "name": "stderr",
          "text": [
            "Training...: 100%|██████████| 977/977 [01:50<00:00,  8.84it/s, Batch average loss=0.6681]\n"
          ]
        },
        {
          "output_type": "stream",
          "name": "stdout",
          "text": [
            "Epoch 5 | Average train loss: 0.6681 / Average train Acc: 0.7620 \n",
            "\n"
          ]
        },
        {
          "output_type": "stream",
          "name": "stderr",
          "text": [
            "Training...: 100%|██████████| 977/977 [01:49<00:00,  8.90it/s, Batch average loss=0.5137]\n"
          ]
        },
        {
          "output_type": "stream",
          "name": "stdout",
          "text": [
            "Epoch 6 | Average train loss: 0.6017 / Average train Acc: 0.7857 \n",
            "\n"
          ]
        },
        {
          "output_type": "stream",
          "name": "stderr",
          "text": [
            "Training...: 100%|██████████| 977/977 [01:49<00:00,  8.94it/s, Batch average loss=0.6346]\n"
          ]
        },
        {
          "output_type": "stream",
          "name": "stdout",
          "text": [
            "Epoch 7 | Average train loss: 0.5448 / Average train Acc: 0.8060 \n",
            "\n"
          ]
        },
        {
          "output_type": "stream",
          "name": "stderr",
          "text": [
            "Training...: 100%|██████████| 977/977 [01:50<00:00,  8.83it/s, Batch average loss=0.4591]\n"
          ]
        },
        {
          "output_type": "stream",
          "name": "stdout",
          "text": [
            "Epoch 8 | Average train loss: 0.5019 / Average train Acc: 0.8219 \n",
            "\n"
          ]
        },
        {
          "output_type": "stream",
          "name": "stderr",
          "text": [
            "Training...: 100%|██████████| 977/977 [01:48<00:00,  8.97it/s, Batch average loss=0.4037]\n"
          ]
        },
        {
          "output_type": "stream",
          "name": "stdout",
          "text": [
            "Epoch 9 | Average train loss: 0.4631 / Average train Acc: 0.8362 \n",
            "\n"
          ]
        },
        {
          "output_type": "stream",
          "name": "stderr",
          "text": [
            "Training...: 100%|██████████| 977/977 [01:49<00:00,  8.93it/s, Batch average loss=0.4435]"
          ]
        },
        {
          "output_type": "stream",
          "name": "stdout",
          "text": [
            "Epoch 10 | Average train loss: 0.4398 / Average train Acc: 0.8444 \n",
            "\n"
          ]
        },
        {
          "output_type": "stream",
          "name": "stderr",
          "text": [
            "\n"
          ]
        }
      ]
    },
    {
      "cell_type": "code",
      "source": [
        "PATH_cnn4 = '/content/gdrive/MyDrive/DLBVD/HW2/cnn4_cifar.pth'"
      ],
      "metadata": {
        "id": "xsuby3DHkWW9"
      },
      "execution_count": 56,
      "outputs": []
    },
    {
      "cell_type": "markdown",
      "source": [
        "Optional : Save the trained model"
      ],
      "metadata": {
        "id": "kS6KbJjFkamS"
      }
    },
    {
      "cell_type": "code",
      "source": [
        "torch.save(cnn4.state_dict(), PATH_cnn4)"
      ],
      "metadata": {
        "id": "gsEvoxYtkaYA"
      },
      "execution_count": 26,
      "outputs": []
    },
    {
      "cell_type": "markdown",
      "source": [
        "Load back in our saved model"
      ],
      "metadata": {
        "id": "fnHiji5rkpPI"
      }
    },
    {
      "cell_type": "code",
      "source": [
        "cnn4 = CNN4().to(device)\n",
        "cnn4.load_state_dict(torch.load(PATH_cnn4))"
      ],
      "metadata": {
        "colab": {
          "base_uri": "https://localhost:8080/"
        },
        "id": "aMp8lprUkpsO",
        "outputId": "0ec8e91e-a030-46a1-aeaa-41030a4bd019"
      },
      "execution_count": 57,
      "outputs": [
        {
          "output_type": "execute_result",
          "data": {
            "text/plain": [
              "<All keys matched successfully>"
            ]
          },
          "metadata": {},
          "execution_count": 57
        }
      ]
    },
    {
      "cell_type": "markdown",
      "source": [
        "Evaluate the classfication performance on the testing set"
      ],
      "metadata": {
        "id": "yBYxHsvtksEj"
      }
    },
    {
      "cell_type": "code",
      "source": [
        "print(cnn4)"
      ],
      "metadata": {
        "colab": {
          "base_uri": "https://localhost:8080/"
        },
        "id": "OSSHkodbi0UA",
        "outputId": "d29f5c4c-4142-47f2-c6e0-d84e1b3813f2"
      },
      "execution_count": 58,
      "outputs": [
        {
          "output_type": "stream",
          "name": "stdout",
          "text": [
            "CNN4(\n",
            "  (cnn_layers): Sequential(\n",
            "    (0): Conv2d(3, 32, kernel_size=(3, 3), stride=(1, 1), padding=(1, 1))\n",
            "    (1): ReLU()\n",
            "    (2): MaxPool2d(kernel_size=2, stride=2, padding=0, dilation=1, ceil_mode=False)\n",
            "    (3): Conv2d(32, 64, kernel_size=(3, 3), stride=(1, 1), padding=(1, 1))\n",
            "    (4): ReLU()\n",
            "    (5): Conv2d(64, 128, kernel_size=(3, 3), stride=(3, 3), padding=(1, 1))\n",
            "    (6): ReLU()\n",
            "    (7): MaxPool2d(kernel_size=2, stride=2, padding=0, dilation=1, ceil_mode=False)\n",
            "    (8): Conv2d(128, 128, kernel_size=(3, 3), stride=(1, 1), padding=(1, 1))\n",
            "    (9): ReLU()\n",
            "    (10): Conv2d(128, 256, kernel_size=(3, 3), stride=(1, 1), padding=(1, 1))\n",
            "    (11): ReLU()\n",
            "  )\n",
            "  (fc_layers): Sequential(\n",
            "    (0): Linear(in_features=2304, out_features=256, bias=True)\n",
            "    (1): ReLU()\n",
            "    (2): Linear(in_features=256, out_features=84, bias=True)\n",
            "    (3): ReLU()\n",
            "    (4): Linear(in_features=84, out_features=10, bias=True)\n",
            "  )\n",
            ")\n"
          ]
        }
      ]
    },
    {
      "cell_type": "code",
      "source": [
        "# todo: use your test() to test your cnn1\n",
        "cnn4_test_pred, cnn4_test_avloss, cnn4_test_avacc = test(cnn4, criterion, cifar_test_loader, label=True)"
      ],
      "metadata": {
        "colab": {
          "base_uri": "https://localhost:8080/"
        },
        "id": "6EoU3MdAkutk",
        "outputId": "c3031c0a-1a98-4870-f691-28fbf2ac8aad"
      },
      "execution_count": 59,
      "outputs": [
        {
          "output_type": "stream",
          "name": "stderr",
          "text": [
            "100%|██████████| 79/79 [00:04<00:00, 16.74it/s]"
          ]
        },
        {
          "output_type": "stream",
          "name": "stdout",
          "text": [
            "Average test loss: 0.9205 | Average test Acc: 0.7534\n"
          ]
        },
        {
          "output_type": "stream",
          "name": "stderr",
          "text": [
            "\n"
          ]
        }
      ]
    },
    {
      "cell_type": "markdown",
      "source": [
        "### CNN5\n",
        "\n",
        "○ # of conv: 5\n",
        "\n",
        "○ # of pool: 2\n",
        "\n",
        "○ Kernel size (conv): 3x3\n",
        "\n",
        "○ Stride (cov): 1x1 and 3x3\n",
        "\n",
        "○ Dilation: 1x1\n",
        "\n",
        "○ Dropout in FC: 30%\n",
        "\n",
        "○ FC layer : 256 -> 128 -> 64 -> 10"
      ],
      "metadata": {
        "id": "UyjMybTYrAoK"
      }
    },
    {
      "cell_type": "code",
      "source": [
        "class CNN5(nn.Module):\n",
        "  def __init__(self):\n",
        "    super().__init__()\n",
        "    # TODO: define your CNN\n",
        "    self.cnn_layers = nn.Sequential(\n",
        "            nn.Conv2d(3, 64, 3, stride=1, padding=1, dilation=1),\n",
        "            nn.ReLU(),\n",
        "            nn.MaxPool2d(kernel_size=2),\n",
        "            nn.Conv2d(64, 128, 3, stride=1, padding=1, dilation=1),\n",
        "            nn.ReLU(),\n",
        "            nn.Conv2d(128, 256, 3, stride=3, padding=1, dilation=1),\n",
        "            nn.ReLU(),\n",
        "            nn.MaxPool2d(kernel_size=2),\n",
        "            nn.Conv2d(256, 512, 3, stride=1, padding=1, dilation=1),\n",
        "            nn.ReLU(),\n",
        "            nn.Conv2d(512, 720, 3, stride=1, padding=1, dilation=1),\n",
        "            nn.ReLU())\n",
        "    \n",
        "    self.fc_layers = nn.Sequential(\n",
        "            nn.Linear(720*3*3, 256),\n",
        "            nn.ReLU(),\n",
        "            nn.Dropout(p=0.3),\n",
        "            nn.Linear(256, 128),\n",
        "            nn.ReLU(),\n",
        "            nn.Dropout(p=0.3),\n",
        "            nn.Linear(128, 64),\n",
        "            nn.ReLU(),\n",
        "            nn.Dropout(p=0.3),\n",
        "            nn.Linear(64, 10))\n",
        "\n",
        "  def forward(self, x):\n",
        "    # TODO: define your forward function\n",
        "    x = self.cnn_layers(x)\n",
        "    x = x.flatten(1)\n",
        "    x = self.fc_layers(x)\n",
        "    return x"
      ],
      "metadata": {
        "id": "ooc-YTk2rCkv"
      },
      "execution_count": 60,
      "outputs": []
    },
    {
      "cell_type": "code",
      "source": [
        "cnn5 = CNN5().to(device)  # operate on GPU"
      ],
      "metadata": {
        "id": "BUzF3tDMrS3l"
      },
      "execution_count": 61,
      "outputs": []
    },
    {
      "cell_type": "code",
      "source": [
        "# TODO: you can change loss function and optimizer\n",
        "criterion = nn.CrossEntropyLoss()\n",
        "optimizer = optim.Adam(cnn5.parameters(), lr=0.001, betas=(0.9, 0.999), eps=1e-08, weight_decay=0)"
      ],
      "metadata": {
        "id": "nRorxcCWrYUj"
      },
      "execution_count": 62,
      "outputs": []
    },
    {
      "cell_type": "code",
      "source": [
        "# todo: use your train() to train your cnn1\n",
        "n_epoch = 10\n",
        "# todo: use your train() to train the model\n",
        "for epoch in range(n_epoch):\n",
        "  cnn5_avg_train_loss, cnn5_avg_train_acc = train(cnn5, criterion, optimizer, cifar_train_loader)\n",
        "  print(f\"Epoch {epoch+1} | Average train loss: {cnn5_avg_train_loss:.4f} / Average train Acc: {cnn5_avg_train_acc:.4f} \\n\")"
      ],
      "metadata": {
        "colab": {
          "base_uri": "https://localhost:8080/"
        },
        "id": "V4HPCitPrd5T",
        "outputId": "59f89c59-8395-4c62-cb06-0524ec274896"
      },
      "execution_count": 86,
      "outputs": [
        {
          "output_type": "stream",
          "name": "stderr",
          "text": [
            "Training...: 100%|██████████| 977/977 [02:08<00:00,  7.61it/s, Batch average loss=1.1845]\n"
          ]
        },
        {
          "output_type": "stream",
          "name": "stdout",
          "text": [
            "Epoch 1 | Average train loss: 1.5952 / Average train Acc: 0.4160 \n",
            "\n"
          ]
        },
        {
          "output_type": "stream",
          "name": "stderr",
          "text": [
            "Training...: 100%|██████████| 977/977 [02:07<00:00,  7.64it/s, Batch average loss=1.1000]\n"
          ]
        },
        {
          "output_type": "stream",
          "name": "stdout",
          "text": [
            "Epoch 2 | Average train loss: 1.1489 / Average train Acc: 0.6028 \n",
            "\n"
          ]
        },
        {
          "output_type": "stream",
          "name": "stderr",
          "text": [
            "Training...: 100%|██████████| 977/977 [02:06<00:00,  7.74it/s, Batch average loss=0.9687]\n"
          ]
        },
        {
          "output_type": "stream",
          "name": "stdout",
          "text": [
            "Epoch 3 | Average train loss: 0.9749 / Average train Acc: 0.6691 \n",
            "\n"
          ]
        },
        {
          "output_type": "stream",
          "name": "stderr",
          "text": [
            "Training...: 100%|██████████| 977/977 [02:08<00:00,  7.62it/s, Batch average loss=0.7207]\n"
          ]
        },
        {
          "output_type": "stream",
          "name": "stdout",
          "text": [
            "Epoch 4 | Average train loss: 0.8652 / Average train Acc: 0.7073 \n",
            "\n"
          ]
        },
        {
          "output_type": "stream",
          "name": "stderr",
          "text": [
            "Training...: 100%|██████████| 977/977 [02:07<00:00,  7.69it/s, Batch average loss=0.6831]\n"
          ]
        },
        {
          "output_type": "stream",
          "name": "stdout",
          "text": [
            "Epoch 5 | Average train loss: 0.7771 / Average train Acc: 0.7376 \n",
            "\n"
          ]
        },
        {
          "output_type": "stream",
          "name": "stderr",
          "text": [
            "Training...: 100%|██████████| 977/977 [02:07<00:00,  7.64it/s, Batch average loss=0.6824]\n"
          ]
        },
        {
          "output_type": "stream",
          "name": "stdout",
          "text": [
            "Epoch 6 | Average train loss: 0.7074 / Average train Acc: 0.7622 \n",
            "\n"
          ]
        },
        {
          "output_type": "stream",
          "name": "stderr",
          "text": [
            "Training...: 100%|██████████| 977/977 [02:07<00:00,  7.64it/s, Batch average loss=0.5861]\n"
          ]
        },
        {
          "output_type": "stream",
          "name": "stdout",
          "text": [
            "Epoch 7 | Average train loss: 0.6550 / Average train Acc: 0.7808 \n",
            "\n"
          ]
        },
        {
          "output_type": "stream",
          "name": "stderr",
          "text": [
            "Training...: 100%|██████████| 977/977 [02:08<00:00,  7.63it/s, Batch average loss=0.5860]\n"
          ]
        },
        {
          "output_type": "stream",
          "name": "stdout",
          "text": [
            "Epoch 8 | Average train loss: 0.6119 / Average train Acc: 0.7958 \n",
            "\n"
          ]
        },
        {
          "output_type": "stream",
          "name": "stderr",
          "text": [
            "Training...: 100%|██████████| 977/977 [02:08<00:00,  7.62it/s, Batch average loss=0.6529]\n"
          ]
        },
        {
          "output_type": "stream",
          "name": "stdout",
          "text": [
            "Epoch 9 | Average train loss: 0.5752 / Average train Acc: 0.8087 \n",
            "\n"
          ]
        },
        {
          "output_type": "stream",
          "name": "stderr",
          "text": [
            "Training...: 100%|██████████| 977/977 [02:06<00:00,  7.71it/s, Batch average loss=0.5408]\n"
          ]
        },
        {
          "output_type": "stream",
          "name": "stdout",
          "text": [
            "Epoch 10 | Average train loss: 0.5411 / Average train Acc: 0.8211 \n",
            "\n"
          ]
        },
        {
          "output_type": "stream",
          "name": "stderr",
          "text": [
            "Training...: 100%|██████████| 977/977 [02:07<00:00,  7.67it/s, Batch average loss=0.4746]\n"
          ]
        },
        {
          "output_type": "stream",
          "name": "stdout",
          "text": [
            "Epoch 11 | Average train loss: 0.5135 / Average train Acc: 0.8311 \n",
            "\n"
          ]
        },
        {
          "output_type": "stream",
          "name": "stderr",
          "text": [
            "Training...: 100%|██████████| 977/977 [02:08<00:00,  7.59it/s, Batch average loss=0.5069]\n"
          ]
        },
        {
          "output_type": "stream",
          "name": "stdout",
          "text": [
            "Epoch 12 | Average train loss: 0.4981 / Average train Acc: 0.8364 \n",
            "\n"
          ]
        },
        {
          "output_type": "stream",
          "name": "stderr",
          "text": [
            "Training...: 100%|██████████| 977/977 [02:08<00:00,  7.57it/s, Batch average loss=0.4690]\n"
          ]
        },
        {
          "output_type": "stream",
          "name": "stdout",
          "text": [
            "Epoch 13 | Average train loss: 0.4751 / Average train Acc: 0.8445 \n",
            "\n"
          ]
        },
        {
          "output_type": "stream",
          "name": "stderr",
          "text": [
            "Training...: 100%|██████████| 977/977 [02:07<00:00,  7.67it/s, Batch average loss=0.5297]\n"
          ]
        },
        {
          "output_type": "stream",
          "name": "stdout",
          "text": [
            "Epoch 14 | Average train loss: 0.4565 / Average train Acc: 0.8502 \n",
            "\n"
          ]
        },
        {
          "output_type": "stream",
          "name": "stderr",
          "text": [
            "Training...: 100%|██████████| 977/977 [02:07<00:00,  7.65it/s, Batch average loss=0.5164]\n"
          ]
        },
        {
          "output_type": "stream",
          "name": "stdout",
          "text": [
            "Epoch 15 | Average train loss: 0.4453 / Average train Acc: 0.8543 \n",
            "\n"
          ]
        },
        {
          "output_type": "stream",
          "name": "stderr",
          "text": [
            "Training...: 100%|██████████| 977/977 [02:08<00:00,  7.61it/s, Batch average loss=0.4187]\n"
          ]
        },
        {
          "output_type": "stream",
          "name": "stdout",
          "text": [
            "Epoch 16 | Average train loss: 0.4293 / Average train Acc: 0.8613 \n",
            "\n"
          ]
        },
        {
          "output_type": "stream",
          "name": "stderr",
          "text": [
            "Training...: 100%|██████████| 977/977 [02:08<00:00,  7.60it/s, Batch average loss=0.4358]\n"
          ]
        },
        {
          "output_type": "stream",
          "name": "stdout",
          "text": [
            "Epoch 17 | Average train loss: 0.4192 / Average train Acc: 0.8640 \n",
            "\n"
          ]
        },
        {
          "output_type": "stream",
          "name": "stderr",
          "text": [
            "Training...: 100%|██████████| 977/977 [02:08<00:00,  7.61it/s, Batch average loss=0.3966]\n"
          ]
        },
        {
          "output_type": "stream",
          "name": "stdout",
          "text": [
            "Epoch 18 | Average train loss: 0.4126 / Average train Acc: 0.8673 \n",
            "\n"
          ]
        },
        {
          "output_type": "stream",
          "name": "stderr",
          "text": [
            "Training...: 100%|██████████| 977/977 [02:06<00:00,  7.70it/s, Batch average loss=0.4727]\n"
          ]
        },
        {
          "output_type": "stream",
          "name": "stdout",
          "text": [
            "Epoch 19 | Average train loss: 0.3993 / Average train Acc: 0.8709 \n",
            "\n"
          ]
        },
        {
          "output_type": "stream",
          "name": "stderr",
          "text": [
            "Training...: 100%|██████████| 977/977 [02:06<00:00,  7.71it/s, Batch average loss=0.3167]\n"
          ]
        },
        {
          "output_type": "stream",
          "name": "stdout",
          "text": [
            "Epoch 20 | Average train loss: 0.3917 / Average train Acc: 0.8738 \n",
            "\n"
          ]
        },
        {
          "output_type": "stream",
          "name": "stderr",
          "text": [
            "Training...: 100%|██████████| 977/977 [02:08<00:00,  7.61it/s, Batch average loss=0.3905]\n"
          ]
        },
        {
          "output_type": "stream",
          "name": "stdout",
          "text": [
            "Epoch 21 | Average train loss: 0.3851 / Average train Acc: 0.8769 \n",
            "\n"
          ]
        },
        {
          "output_type": "stream",
          "name": "stderr",
          "text": [
            "Training...: 100%|██████████| 977/977 [02:07<00:00,  7.67it/s, Batch average loss=0.3714]\n"
          ]
        },
        {
          "output_type": "stream",
          "name": "stdout",
          "text": [
            "Epoch 22 | Average train loss: 0.3765 / Average train Acc: 0.8783 \n",
            "\n"
          ]
        },
        {
          "output_type": "stream",
          "name": "stderr",
          "text": [
            "Training...: 100%|██████████| 977/977 [02:09<00:00,  7.56it/s, Batch average loss=0.3466]\n"
          ]
        },
        {
          "output_type": "stream",
          "name": "stdout",
          "text": [
            "Epoch 23 | Average train loss: 0.3720 / Average train Acc: 0.8813 \n",
            "\n"
          ]
        },
        {
          "output_type": "stream",
          "name": "stderr",
          "text": [
            "Training...: 100%|██████████| 977/977 [02:08<00:00,  7.60it/s, Batch average loss=0.4886]\n"
          ]
        },
        {
          "output_type": "stream",
          "name": "stdout",
          "text": [
            "Epoch 24 | Average train loss: 0.3639 / Average train Acc: 0.8839 \n",
            "\n"
          ]
        },
        {
          "output_type": "stream",
          "name": "stderr",
          "text": [
            "Training...: 100%|██████████| 977/977 [02:06<00:00,  7.75it/s, Batch average loss=0.3086]\n"
          ]
        },
        {
          "output_type": "stream",
          "name": "stdout",
          "text": [
            "Epoch 25 | Average train loss: 0.3595 / Average train Acc: 0.8854 \n",
            "\n"
          ]
        },
        {
          "output_type": "stream",
          "name": "stderr",
          "text": [
            "Training...: 100%|██████████| 977/977 [02:07<00:00,  7.68it/s, Batch average loss=0.3713]\n"
          ]
        },
        {
          "output_type": "stream",
          "name": "stdout",
          "text": [
            "Epoch 26 | Average train loss: 0.3518 / Average train Acc: 0.8881 \n",
            "\n"
          ]
        },
        {
          "output_type": "stream",
          "name": "stderr",
          "text": [
            "Training...: 100%|██████████| 977/977 [02:06<00:00,  7.75it/s, Batch average loss=0.3959]\n"
          ]
        },
        {
          "output_type": "stream",
          "name": "stdout",
          "text": [
            "Epoch 27 | Average train loss: 0.3491 / Average train Acc: 0.8895 \n",
            "\n"
          ]
        },
        {
          "output_type": "stream",
          "name": "stderr",
          "text": [
            "Training...: 100%|██████████| 977/977 [02:07<00:00,  7.69it/s, Batch average loss=0.4396]\n"
          ]
        },
        {
          "output_type": "stream",
          "name": "stdout",
          "text": [
            "Epoch 28 | Average train loss: 0.3432 / Average train Acc: 0.8910 \n",
            "\n"
          ]
        },
        {
          "output_type": "stream",
          "name": "stderr",
          "text": [
            "Training...: 100%|██████████| 977/977 [02:05<00:00,  7.76it/s, Batch average loss=0.3704]\n"
          ]
        },
        {
          "output_type": "stream",
          "name": "stdout",
          "text": [
            "Epoch 29 | Average train loss: 0.3401 / Average train Acc: 0.8926 \n",
            "\n"
          ]
        },
        {
          "output_type": "stream",
          "name": "stderr",
          "text": [
            "Training...: 100%|██████████| 977/977 [02:06<00:00,  7.71it/s, Batch average loss=0.3526]"
          ]
        },
        {
          "output_type": "stream",
          "name": "stdout",
          "text": [
            "Epoch 30 | Average train loss: 0.3346 / Average train Acc: 0.8942 \n",
            "\n"
          ]
        },
        {
          "output_type": "stream",
          "name": "stderr",
          "text": [
            "\n"
          ]
        }
      ]
    },
    {
      "cell_type": "code",
      "source": [
        "PATH_cnn5 = '/content/gdrive/MyDrive/DLBVD/HW2/cnn5_cifar.pth'"
      ],
      "metadata": {
        "id": "iZUaf1jurqHl"
      },
      "execution_count": 63,
      "outputs": []
    },
    {
      "cell_type": "markdown",
      "source": [
        "Optional : Save the trained model"
      ],
      "metadata": {
        "id": "vUdZU62fruV8"
      }
    },
    {
      "cell_type": "code",
      "source": [
        "torch.save(cnn5.state_dict(), PATH_cnn5)"
      ],
      "metadata": {
        "id": "PLk5OS5ZrryL"
      },
      "execution_count": 88,
      "outputs": []
    },
    {
      "cell_type": "markdown",
      "source": [
        "Load back in our saved model"
      ],
      "metadata": {
        "id": "1tTk_53brzMq"
      }
    },
    {
      "cell_type": "code",
      "source": [
        "cnn5 = CNN5().to(device)\n",
        "cnn5.load_state_dict(torch.load(PATH_cnn5))"
      ],
      "metadata": {
        "colab": {
          "base_uri": "https://localhost:8080/"
        },
        "id": "9FwBKsawrzf3",
        "outputId": "4974acff-86c9-41e9-90ca-175c52e6533e"
      },
      "execution_count": 64,
      "outputs": [
        {
          "output_type": "execute_result",
          "data": {
            "text/plain": [
              "<All keys matched successfully>"
            ]
          },
          "metadata": {},
          "execution_count": 64
        }
      ]
    },
    {
      "cell_type": "markdown",
      "source": [
        "Evaluate the classfication performance on the testing set"
      ],
      "metadata": {
        "id": "P-LdWuPgr90_"
      }
    },
    {
      "cell_type": "code",
      "source": [
        "print(cnn5)"
      ],
      "metadata": {
        "colab": {
          "base_uri": "https://localhost:8080/"
        },
        "id": "9VU_JraMi8ut",
        "outputId": "b85e4a5f-6e43-4bf8-8fb9-9b7568249250"
      },
      "execution_count": 65,
      "outputs": [
        {
          "output_type": "stream",
          "name": "stdout",
          "text": [
            "CNN5(\n",
            "  (cnn_layers): Sequential(\n",
            "    (0): Conv2d(3, 64, kernel_size=(3, 3), stride=(1, 1), padding=(1, 1))\n",
            "    (1): ReLU()\n",
            "    (2): MaxPool2d(kernel_size=2, stride=2, padding=0, dilation=1, ceil_mode=False)\n",
            "    (3): Conv2d(64, 128, kernel_size=(3, 3), stride=(1, 1), padding=(1, 1))\n",
            "    (4): ReLU()\n",
            "    (5): Conv2d(128, 256, kernel_size=(3, 3), stride=(3, 3), padding=(1, 1))\n",
            "    (6): ReLU()\n",
            "    (7): MaxPool2d(kernel_size=2, stride=2, padding=0, dilation=1, ceil_mode=False)\n",
            "    (8): Conv2d(256, 512, kernel_size=(3, 3), stride=(1, 1), padding=(1, 1))\n",
            "    (9): ReLU()\n",
            "    (10): Conv2d(512, 720, kernel_size=(3, 3), stride=(1, 1), padding=(1, 1))\n",
            "    (11): ReLU()\n",
            "  )\n",
            "  (fc_layers): Sequential(\n",
            "    (0): Linear(in_features=6480, out_features=256, bias=True)\n",
            "    (1): ReLU()\n",
            "    (2): Dropout(p=0.3, inplace=False)\n",
            "    (3): Linear(in_features=256, out_features=128, bias=True)\n",
            "    (4): ReLU()\n",
            "    (5): Dropout(p=0.3, inplace=False)\n",
            "    (6): Linear(in_features=128, out_features=64, bias=True)\n",
            "    (7): ReLU()\n",
            "    (8): Dropout(p=0.3, inplace=False)\n",
            "    (9): Linear(in_features=64, out_features=10, bias=True)\n",
            "  )\n",
            ")\n"
          ]
        }
      ]
    },
    {
      "cell_type": "code",
      "source": [
        "# todo: use your test() to test your cnn1\n",
        "cnn5_test_pred, cnn5_test_avloss, cnn5_test_avacc = test(cnn5, criterion, cifar_test_loader, label=True)"
      ],
      "metadata": {
        "colab": {
          "base_uri": "https://localhost:8080/"
        },
        "id": "6sFRSYQjr-NR",
        "outputId": "212bd520-7f2c-4e92-a0b5-220814960b76"
      },
      "execution_count": 66,
      "outputs": [
        {
          "output_type": "stream",
          "name": "stderr",
          "text": [
            "100%|██████████| 79/79 [00:04<00:00, 18.11it/s]"
          ]
        },
        {
          "output_type": "stream",
          "name": "stdout",
          "text": [
            "Average test loss: 1.0409 | Average test Acc: 0.7681\n"
          ]
        },
        {
          "output_type": "stream",
          "name": "stderr",
          "text": [
            "\n"
          ]
        }
      ]
    },
    {
      "cell_type": "markdown",
      "source": [
        "### CNN6\n",
        "○ # of conv: 5\n",
        "\n",
        "○ # of pool: 2\n",
        "\n",
        "○ Kernel size (conv): 3x3\n",
        "\n",
        "○ Stride (cov): 1x1 and 3x3\n",
        "\n",
        "○ Dilation: 1x1\n",
        "\n",
        "○ Dropout in FC: 30%\n",
        "\n",
        "○ FC layer : 256 -> 128 -> 64 -> 10\n",
        "\n",
        "○ BatchNorm2d"
      ],
      "metadata": {
        "id": "hDZCaeHrnkHT"
      }
    },
    {
      "cell_type": "code",
      "source": [
        "class CNN6(nn.Module):\n",
        "  def __init__(self):\n",
        "    super().__init__()\n",
        "    # TODO: define your CNN\n",
        "    self.cnn_layers = nn.Sequential(\n",
        "            nn.Conv2d(3, 64, 3, stride=1, padding=1, dilation=1),\n",
        "            nn.BatchNorm2d(64),\n",
        "            nn.ReLU(),\n",
        "            nn.MaxPool2d(kernel_size=2),\n",
        "            nn.Conv2d(64, 128, 3, stride=1, padding=1, dilation=1),\n",
        "            nn.BatchNorm2d(128),\n",
        "            nn.ReLU(),\n",
        "            nn.Conv2d(128, 256, 3, stride=3, padding=1, dilation=1),\n",
        "            nn.BatchNorm2d(256),\n",
        "            nn.ReLU(),\n",
        "            nn.MaxPool2d(kernel_size=2),\n",
        "            nn.Conv2d(256, 512, 3, stride=1, padding=1, dilation=1),\n",
        "            nn.BatchNorm2d(512),\n",
        "            nn.ReLU(),\n",
        "            nn.Conv2d(512, 720, 3, stride=1, padding=1, dilation=1),\n",
        "            nn.BatchNorm2d(720),\n",
        "            nn.ReLU())\n",
        "    \n",
        "    self.fc_layers = nn.Sequential(\n",
        "            nn.Linear(720*3*3, 256),\n",
        "            nn.ReLU(),\n",
        "            nn.Dropout(p=0.3),\n",
        "            nn.Linear(256, 128),\n",
        "            nn.ReLU(),\n",
        "            nn.Dropout(p=0.3),\n",
        "            nn.Linear(128, 64),\n",
        "            nn.ReLU(),\n",
        "            nn.Dropout(p=0.3),\n",
        "            nn.Linear(64, 10))\n",
        "\n",
        "  def forward(self, x):\n",
        "    # TODO: define your forward function\n",
        "    x = self.cnn_layers(x)\n",
        "    x = x.flatten(1)\n",
        "    x = self.fc_layers(x)\n",
        "    return x"
      ],
      "metadata": {
        "id": "I_YwCg8_nmUX"
      },
      "execution_count": 67,
      "outputs": []
    },
    {
      "cell_type": "code",
      "source": [
        "cnn6 = CNN6().to(device)  # operate on GPU"
      ],
      "metadata": {
        "id": "kS69tMPKo3yE"
      },
      "execution_count": 68,
      "outputs": []
    },
    {
      "cell_type": "code",
      "source": [
        "# TODO: you can change loss function and optimizer\n",
        "criterion = nn.CrossEntropyLoss()\n",
        "optimizer = optim.Adam(cnn6.parameters(), lr=0.001, betas=(0.9, 0.999), eps=1e-08, weight_decay=0)"
      ],
      "metadata": {
        "id": "hxoQMVYCo7Lb"
      },
      "execution_count": 69,
      "outputs": []
    },
    {
      "cell_type": "code",
      "source": [
        "# todo: use your train() to train your cnn1\n",
        "n_epoch = 10\n",
        "# todo: use your train() to train the model\n",
        "for epoch in range(n_epoch):\n",
        "  cnn6_avg_train_loss, cnn6_avg_train_acc = train(cnn6, criterion, optimizer, cifar_train_loader)\n",
        "  print(f\"Epoch {epoch+1} | Average train loss: {cnn6_avg_train_loss:.4f} / Average train Acc: {cnn6_avg_train_acc:.4f} \\n\")"
      ],
      "metadata": {
        "colab": {
          "base_uri": "https://localhost:8080/"
        },
        "id": "3JjnTs_xo-C6",
        "outputId": "934255fc-17e3-44e4-e79b-b4fe41ac05b8"
      },
      "execution_count": 70,
      "outputs": [
        {
          "output_type": "stream",
          "name": "stderr",
          "text": [
            "Training...: 100%|██████████| 977/977 [02:16<00:00,  7.13it/s, Batch average loss=1.1756]\n"
          ]
        },
        {
          "output_type": "stream",
          "name": "stdout",
          "text": [
            "Epoch 1 | Average train loss: 1.4247 / Average train Acc: 0.4865 \n",
            "\n"
          ]
        },
        {
          "output_type": "stream",
          "name": "stderr",
          "text": [
            "Training...: 100%|██████████| 977/977 [02:15<00:00,  7.19it/s, Batch average loss=0.9498]\n"
          ]
        },
        {
          "output_type": "stream",
          "name": "stdout",
          "text": [
            "Epoch 2 | Average train loss: 1.0301 / Average train Acc: 0.6493 \n",
            "\n"
          ]
        },
        {
          "output_type": "stream",
          "name": "stderr",
          "text": [
            "Training...: 100%|██████████| 977/977 [02:17<00:00,  7.11it/s, Batch average loss=0.8022]\n"
          ]
        },
        {
          "output_type": "stream",
          "name": "stdout",
          "text": [
            "Epoch 3 | Average train loss: 0.8526 / Average train Acc: 0.7132 \n",
            "\n"
          ]
        },
        {
          "output_type": "stream",
          "name": "stderr",
          "text": [
            "Training...: 100%|██████████| 977/977 [02:14<00:00,  7.25it/s, Batch average loss=0.7246]\n"
          ]
        },
        {
          "output_type": "stream",
          "name": "stdout",
          "text": [
            "Epoch 4 | Average train loss: 0.7386 / Average train Acc: 0.7541 \n",
            "\n"
          ]
        },
        {
          "output_type": "stream",
          "name": "stderr",
          "text": [
            "Training...: 100%|██████████| 977/977 [02:13<00:00,  7.30it/s, Batch average loss=0.6623]\n"
          ]
        },
        {
          "output_type": "stream",
          "name": "stdout",
          "text": [
            "Epoch 5 | Average train loss: 0.6470 / Average train Acc: 0.7862 \n",
            "\n"
          ]
        },
        {
          "output_type": "stream",
          "name": "stderr",
          "text": [
            "Training...: 100%|██████████| 977/977 [02:17<00:00,  7.13it/s, Batch average loss=0.5742]\n"
          ]
        },
        {
          "output_type": "stream",
          "name": "stdout",
          "text": [
            "Epoch 6 | Average train loss: 0.5782 / Average train Acc: 0.8088 \n",
            "\n"
          ]
        },
        {
          "output_type": "stream",
          "name": "stderr",
          "text": [
            "Training...: 100%|██████████| 977/977 [02:16<00:00,  7.15it/s, Batch average loss=0.4306]\n"
          ]
        },
        {
          "output_type": "stream",
          "name": "stdout",
          "text": [
            "Epoch 7 | Average train loss: 0.5115 / Average train Acc: 0.8314 \n",
            "\n"
          ]
        },
        {
          "output_type": "stream",
          "name": "stderr",
          "text": [
            "Training...: 100%|██████████| 977/977 [02:14<00:00,  7.25it/s, Batch average loss=0.3800]\n"
          ]
        },
        {
          "output_type": "stream",
          "name": "stdout",
          "text": [
            "Epoch 8 | Average train loss: 0.4558 / Average train Acc: 0.8506 \n",
            "\n"
          ]
        },
        {
          "output_type": "stream",
          "name": "stderr",
          "text": [
            "Training...: 100%|██████████| 977/977 [02:13<00:00,  7.34it/s, Batch average loss=0.5393]\n"
          ]
        },
        {
          "output_type": "stream",
          "name": "stdout",
          "text": [
            "Epoch 9 | Average train loss: 0.4087 / Average train Acc: 0.8662 \n",
            "\n"
          ]
        },
        {
          "output_type": "stream",
          "name": "stderr",
          "text": [
            "Training...: 100%|██████████| 977/977 [02:14<00:00,  7.28it/s, Batch average loss=0.4090]"
          ]
        },
        {
          "output_type": "stream",
          "name": "stdout",
          "text": [
            "Epoch 10 | Average train loss: 0.3750 / Average train Acc: 0.8776 \n",
            "\n"
          ]
        },
        {
          "output_type": "stream",
          "name": "stderr",
          "text": [
            "\n"
          ]
        }
      ]
    },
    {
      "cell_type": "code",
      "source": [
        "PATH_cnn6 = '/content/gdrive/MyDrive/DLBVD/HW2/cnn6_cifar.pth'"
      ],
      "metadata": {
        "id": "-zMK2JClpKFq"
      },
      "execution_count": 71,
      "outputs": []
    },
    {
      "cell_type": "markdown",
      "source": [
        "Optional : Save the trained model"
      ],
      "metadata": {
        "id": "Nzd5WuIlpN_t"
      }
    },
    {
      "cell_type": "code",
      "source": [
        "torch.save(cnn6.state_dict(), PATH_cnn6)"
      ],
      "metadata": {
        "id": "t8IvpqE4pL9A"
      },
      "execution_count": 72,
      "outputs": []
    },
    {
      "cell_type": "markdown",
      "source": [
        "Load back in our saved model"
      ],
      "metadata": {
        "id": "vzPlkuFypPLG"
      }
    },
    {
      "cell_type": "code",
      "source": [
        "cnn6 = CNN6().to(device)\n",
        "cnn6.load_state_dict(torch.load(PATH_cnn6))"
      ],
      "metadata": {
        "colab": {
          "base_uri": "https://localhost:8080/"
        },
        "id": "ppl7TPwVpSyj",
        "outputId": "8857625e-10a2-4821-96b2-0c20202c7736"
      },
      "execution_count": 73,
      "outputs": [
        {
          "output_type": "execute_result",
          "data": {
            "text/plain": [
              "<All keys matched successfully>"
            ]
          },
          "metadata": {},
          "execution_count": 73
        }
      ]
    },
    {
      "cell_type": "markdown",
      "source": [
        "Evaluate the classfication performance on the testing set"
      ],
      "metadata": {
        "id": "VlXtw4RQpVkA"
      }
    },
    {
      "cell_type": "code",
      "source": [
        "# todo: use your test() to test your cnn1\n",
        "cnn6_test_pred, cnn6_test_avloss, cnn6_test_avacc = test(cnn6, criterion, cifar_test_loader, label=True)"
      ],
      "metadata": {
        "colab": {
          "base_uri": "https://localhost:8080/"
        },
        "id": "iNn1jVkwpXCK",
        "outputId": "abd937a4-abb9-443f-d9af-2cedcefc4090"
      },
      "execution_count": 74,
      "outputs": [
        {
          "output_type": "stream",
          "name": "stderr",
          "text": [
            "100%|██████████| 79/79 [00:04<00:00, 18.08it/s]"
          ]
        },
        {
          "output_type": "stream",
          "name": "stdout",
          "text": [
            "Average test loss: 0.6886 | Average test Acc: 0.8197\n"
          ]
        },
        {
          "output_type": "stream",
          "name": "stderr",
          "text": [
            "\n"
          ]
        }
      ]
    },
    {
      "cell_type": "markdown",
      "source": [
        "### Comparison"
      ],
      "metadata": {
        "id": "pb0uM1BoFQJt"
      }
    },
    {
      "cell_type": "code",
      "source": [
        "import seaborn as sns\n",
        "import pandas as pd"
      ],
      "metadata": {
        "id": "nod0-G79td82"
      },
      "execution_count": 79,
      "outputs": []
    },
    {
      "cell_type": "markdown",
      "source": [
        "Evaluate and report the accuracies using different configurations"
      ],
      "metadata": {
        "id": "_VAqAhC_ucdg"
      }
    },
    {
      "cell_type": "code",
      "source": [
        "perform_df_test = pd.DataFrame([\n",
        "    ['CNN1', cnn1_test_avacc],\n",
        "    ['CNN2', cnn2_test_avacc],\n",
        "    ['CNN3', cnn3_test_avacc],\n",
        "    ['CNN4', cnn4_test_avacc],\n",
        "    ['CNN5', cnn5_test_avacc],\n",
        "    ['CNN6', cnn6_test_avacc]], columns=['Models', 'Accuracy'])\n",
        "\n",
        "plt.xticks(rotation=-15,size=15)\n",
        "plt.yticks(size=15)\n",
        "sns.set(rc = {'figure.figsize':(25,20)})\n",
        "model_perform_plot = sns.lineplot(x='Models', y='Accuracy', marker='o', data=perform_df_test)\n",
        "model_perform_plot.set_title(\"Comparison of CNN Model's Accuracy on Test Data with Different Configurations\",size=25)\n",
        "\n",
        "for a,b in zip(perform_df_test['Models'],perform_df_test['Accuracy']):\n",
        "  plt.text(a, b, '%.4f' % b, ha='center', va= 'bottom',fontsize=12)"
      ],
      "metadata": {
        "colab": {
          "base_uri": "https://localhost:8080/",
          "height": 548
        },
        "id": "Trcm47ZhFSbA",
        "outputId": "4ba5ccd6-b4ca-476e-8e66-a43b76ec07d1"
      },
      "execution_count": 82,
      "outputs": [
        {
          "output_type": "display_data",
          "data": {
            "text/plain": [
              "<Figure size 1500x800 with 1 Axes>"
            ],
            "image/png": "[encoded data removed]"
          },
          "metadata": {}
        }
      ]
    },
    {
      "cell_type": "code",
      "source": [
        "perform_df_test"
      ],
      "metadata": {
        "colab": {
          "base_uri": "https://localhost:8080/",
          "height": 237
        },
        "id": "7JEZU8cgvbQy",
        "outputId": "9d036ac9-99dc-4627-cea9-fac21e3d3283"
      },
      "execution_count": 84,
      "outputs": [
        {
          "output_type": "execute_result",
          "data": {
            "text/plain": [
              "  Models  Accuracy\n",
              "0   CNN1    0.6537\n",
              "1   CNN2    0.6425\n",
              "2   CNN3    0.6649\n",
              "3   CNN4    0.7534\n",
              "4   CNN5    0.7681\n",
              "5   CNN6    0.8197"
            ],
            "text/html": [
              "\n",
              "  <div id=\"df-7a304903-2286-4cd2-92b2-cbabe13bdd27\">\n",
              "    <div class=\"colab-df-container\">\n",
              "      <div>\n",
              "<style scoped>\n",
              "    .dataframe tbody tr th:only-of-type {\n",
              "        vertical-align: middle;\n",
              "    }\n",
              "\n",
              "    .dataframe tbody tr th {\n",
              "        vertical-align: top;\n",
              "    }\n",
              "\n",
              "    .dataframe thead th {\n",
              "        text-align: right;\n",
              "    }\n",
              "</style>\n",
              "<table border=\"1\" class=\"dataframe\">\n",
              "  <thead>\n",
              "    <tr style=\"text-align: right;\">\n",
              "      <th></th>\n",
              "      <th>Models</th>\n",
              "      <th>Accuracy</th>\n",
              "    </tr>\n",
              "  </thead>\n",
              "  <tbody>\n",
              "    <tr>\n",
              "      <th>0</th>\n",
              "      <td>CNN1</td>\n",
              "      <td>0.6537</td>\n",
              "    </tr>\n",
              "    <tr>\n",
              "      <th>1</th>\n",
              "      <td>CNN2</td>\n",
              "      <td>0.6425</td>\n",
              "    </tr>\n",
              "    <tr>\n",
              "      <th>2</th>\n",
              "      <td>CNN3</td>\n",
              "      <td>0.6649</td>\n",
              "    </tr>\n",
              "    <tr>\n",
              "      <th>3</th>\n",
              "      <td>CNN4</td>\n",
              "      <td>0.7534</td>\n",
              "    </tr>\n",
              "    <tr>\n",
              "      <th>4</th>\n",
              "      <td>CNN5</td>\n",
              "      <td>0.7681</td>\n",
              "    </tr>\n",
              "    <tr>\n",
              "      <th>5</th>\n",
              "      <td>CNN6</td>\n",
              "      <td>0.8197</td>\n",
              "    </tr>\n",
              "  </tbody>\n",
              "</table>\n",
              "</div>\n",
              "      <button class=\"colab-df-convert\" onclick=\"convertToInteractive('df-7a304903-2286-4cd2-92b2-cbabe13bdd27')\"\n",
              "              title=\"Convert this dataframe to an interactive table.\"\n",
              "              style=\"display:none;\">\n",
              "        \n",
              "  <svg xmlns=\"http://www.w3.org/2000/svg\" height=\"24px\"viewBox=\"0 0 24 24\"\n",
              "       width=\"24px\">\n",
              "    <path d=\"M0 0h24v24H0V0z\" fill=\"none\"/>\n",
              "    <path d=\"M18.56 5.44l.94 2.06.94-2.06 2.06-.94-2.06-.94-.94-2.06-.94 2.06-2.06.94zm-11 1L8.5 8.5l.94-2.06 2.06-.94-2.06-.94L8.5 2.5l-.94 2.06-2.06.94zm10 10l.94 2.06.94-2.06 2.06-.94-2.06-.94-.94-2.06-.94 2.06-2.06.94z\"/><path d=\"M17.41 7.96l-1.37-1.37c-.4-.4-.92-.59-1.43-.59-.52 0-1.04.2-1.43.59L10.3 9.45l-7.72 7.72c-.78.78-.78 2.05 0 2.83L4 21.41c.39.39.9.59 1.41.59.51 0 1.02-.2 1.41-.59l7.78-7.78 2.81-2.81c.8-.78.8-2.07 0-2.86zM5.41 20L4 18.59l7.72-7.72 1.47 1.35L5.41 20z\"/>\n",
              "  </svg>\n",
              "      </button>\n",
              "      \n",
              "  <style>\n",
              "    .colab-df-container {\n",
              "      display:flex;\n",
              "      flex-wrap:wrap;\n",
              "      gap: 12px;\n",
              "    }\n",
              "\n",
              "    .colab-df-convert {\n",
              "      background-color: #E8F0FE;\n",
              "      border: none;\n",
              "      border-radius: 50%;\n",
              "      cursor: pointer;\n",
              "      display: none;\n",
              "      fill: #1967D2;\n",
              "      height: 32px;\n",
              "      padding: 0 0 0 0;\n",
              "      width: 32px;\n",
              "    }\n",
              "\n",
              "    .colab-df-convert:hover {\n",
              "      background-color: #E2EBFA;\n",
              "      box-shadow: 0px 1px 2px rgba(60, 64, 67, 0.3), 0px 1px 3px 1px rgba(60, 64, 67, 0.15);\n",
              "      fill: #174EA6;\n",
              "    }\n",
              "\n",
              "    [theme=dark] .colab-df-convert {\n",
              "      background-color: #3B4455;\n",
              "      fill: #D2E3FC;\n",
              "    }\n",
              "\n",
              "    [theme=dark] .colab-df-convert:hover {\n",
              "      background-color: #434B5C;\n",
              "      box-shadow: 0px 1px 3px 1px rgba(0, 0, 0, 0.15);\n",
              "      filter: drop-shadow(0px 1px 2px rgba(0, 0, 0, 0.3));\n",
              "      fill: #FFFFFF;\n",
              "    }\n",
              "  </style>\n",
              "\n",
              "      <script>\n",
              "        const buttonEl =\n",
              "          document.querySelector('#df-7a304903-2286-4cd2-92b2-cbabe13bdd27 button.colab-df-convert');\n",
              "        buttonEl.style.display =\n",
              "          google.colab.kernel.accessAllowed ? 'block' : 'none';\n",
              "\n",
              "        async function convertToInteractive(key) {\n",
              "          const element = document.querySelector('#df-7a304903-2286-4cd2-92b2-cbabe13bdd27');\n",
              "          const dataTable =\n",
              "            await google.colab.kernel.invokeFunction('convertToInteractive',\n",
              "                                                     [key], {});\n",
              "          if (!dataTable) return;\n",
              "\n",
              "          const docLinkHtml = 'Like what you see? Visit the ' +\n",
              "            '<a target=\"_blank\" href=https://colab.research.google.com/notebooks/data_table.ipynb>data table notebook</a>'\n",
              "            + ' to learn more about interactive tables.';\n",
              "          element.innerHTML = '';\n",
              "          dataTable['output_type'] = 'display_data';\n",
              "          await google.colab.output.renderOutput(dataTable, element);\n",
              "          const docLink = document.createElement('div');\n",
              "          docLink.innerHTML = docLinkHtml;\n",
              "          element.appendChild(docLink);\n",
              "        }\n",
              "      </script>\n",
              "    </div>\n",
              "  </div>\n",
              "  "
            ]
          },
          "metadata": {},
          "execution_count": 84
        }
      ]
    },
    {
      "cell_type": "markdown",
      "source": [
        "Evaluate and report the loss using different configurations"
      ],
      "metadata": {
        "id": "iBU5yR4oueXd"
      }
    },
    {
      "cell_type": "code",
      "source": [
        "loss_df_test = pd.DataFrame([\n",
        "    ['CNN1', cnn1_test_avloss],\n",
        "    ['CNN2', cnn2_test_avloss],\n",
        "    ['CNN3', cnn3_test_avloss],\n",
        "    ['CNN4', cnn4_test_avloss],\n",
        "    ['CNN5', cnn5_test_avloss],\n",
        "    ['CNN6', cnn6_test_avloss]], columns=['Models', 'Loss'])\n",
        "\n",
        "plt.xticks(rotation=-15,size=15)\n",
        "plt.yticks(size=15)\n",
        "sns.set(rc = {'figure.figsize':(25,20)})\n",
        "model_loss_plot = sns.lineplot(x='Models', y='Loss', marker='o', data=loss_df_test)\n",
        "model_loss_plot.set_title(\"Comparison of CNN Model's Loss on Test Data with Different Configurations\",size=25)\n",
        "\n",
        "for a,b in zip(loss_df_test['Models'],loss_df_test['Loss']):\n",
        "  plt.text(a, b, '%.4f' % b, ha='center', va= 'bottom',fontsize=12)"
      ],
      "metadata": {
        "colab": {
          "base_uri": "https://localhost:8080/",
          "height": 843
        },
        "id": "_qVgPn7ouYqX",
        "outputId": "7d6b00fe-a62b-496f-baee-d444e6a6681f"
      },
      "execution_count": 83,
      "outputs": [
        {
          "output_type": "display_data",
          "data": {
            "text/plain": [
              "<Figure size 2500x2000 with 1 Axes>"
            ],
            "image/png": "[encoded data removed]"
          },
          "metadata": {}
        }
      ]
    },
    {
      "cell_type": "code",
      "source": [
        "loss_df_test"
      ],
      "metadata": {
        "colab": {
          "base_uri": "https://localhost:8080/",
          "height": 237
        },
        "id": "kATawSsyvgEW",
        "outputId": "db1528db-8b21-42e5-f6f3-4adebf5ac133"
      },
      "execution_count": 85,
      "outputs": [
        {
          "output_type": "execute_result",
          "data": {
            "text/plain": [
              "  Models    Loss\n",
              "0   CNN1  0.9881\n",
              "1   CNN2  1.0101\n",
              "2   CNN3  0.9549\n",
              "3   CNN4  0.9205\n",
              "4   CNN5  1.0409\n",
              "5   CNN6  0.6886"
            ],
            "text/html": [
              "\n",
              "  <div id=\"df-070bb448-5424-4465-a68f-2803b3d1009f\">\n",
              "    <div class=\"colab-df-container\">\n",
              "      <div>\n",
              "<style scoped>\n",
              "    .dataframe tbody tr th:only-of-type {\n",
              "        vertical-align: middle;\n",
              "    }\n",
              "\n",
              "    .dataframe tbody tr th {\n",
              "        vertical-align: top;\n",
              "    }\n",
              "\n",
              "    .dataframe thead th {\n",
              "        text-align: right;\n",
              "    }\n",
              "</style>\n",
              "<table border=\"1\" class=\"dataframe\">\n",
              "  <thead>\n",
              "    <tr style=\"text-align: right;\">\n",
              "      <th></th>\n",
              "      <th>Models</th>\n",
              "      <th>Loss</th>\n",
              "    </tr>\n",
              "  </thead>\n",
              "  <tbody>\n",
              "    <tr>\n",
              "      <th>0</th>\n",
              "      <td>CNN1</td>\n",
              "      <td>0.9881</td>\n",
              "    </tr>\n",
              "    <tr>\n",
              "      <th>1</th>\n",
              "      <td>CNN2</td>\n",
              "      <td>1.0101</td>\n",
              "    </tr>\n",
              "    <tr>\n",
              "      <th>2</th>\n",
              "      <td>CNN3</td>\n",
              "      <td>0.9549</td>\n",
              "    </tr>\n",
              "    <tr>\n",
              "      <th>3</th>\n",
              "      <td>CNN4</td>\n",
              "      <td>0.9205</td>\n",
              "    </tr>\n",
              "    <tr>\n",
              "      <th>4</th>\n",
              "      <td>CNN5</td>\n",
              "      <td>1.0409</td>\n",
              "    </tr>\n",
              "    <tr>\n",
              "      <th>5</th>\n",
              "      <td>CNN6</td>\n",
              "      <td>0.6886</td>\n",
              "    </tr>\n",
              "  </tbody>\n",
              "</table>\n",
              "</div>\n",
              "      <button class=\"colab-df-convert\" onclick=\"convertToInteractive('df-070bb448-5424-4465-a68f-2803b3d1009f')\"\n",
              "              title=\"Convert this dataframe to an interactive table.\"\n",
              "              style=\"display:none;\">\n",
              "        \n",
              "  <svg xmlns=\"http://www.w3.org/2000/svg\" height=\"24px\"viewBox=\"0 0 24 24\"\n",
              "       width=\"24px\">\n",
              "    <path d=\"M0 0h24v24H0V0z\" fill=\"none\"/>\n",
              "    <path d=\"M18.56 5.44l.94 2.06.94-2.06 2.06-.94-2.06-.94-.94-2.06-.94 2.06-2.06.94zm-11 1L8.5 8.5l.94-2.06 2.06-.94-2.06-.94L8.5 2.5l-.94 2.06-2.06.94zm10 10l.94 2.06.94-2.06 2.06-.94-2.06-.94-.94-2.06-.94 2.06-2.06.94z\"/><path d=\"M17.41 7.96l-1.37-1.37c-.4-.4-.92-.59-1.43-.59-.52 0-1.04.2-1.43.59L10.3 9.45l-7.72 7.72c-.78.78-.78 2.05 0 2.83L4 21.41c.39.39.9.59 1.41.59.51 0 1.02-.2 1.41-.59l7.78-7.78 2.81-2.81c.8-.78.8-2.07 0-2.86zM5.41 20L4 18.59l7.72-7.72 1.47 1.35L5.41 20z\"/>\n",
              "  </svg>\n",
              "      </button>\n",
              "      \n",
              "  <style>\n",
              "    .colab-df-container {\n",
              "      display:flex;\n",
              "      flex-wrap:wrap;\n",
              "      gap: 12px;\n",
              "    }\n",
              "\n",
              "    .colab-df-convert {\n",
              "      background-color: #E8F0FE;\n",
              "      border: none;\n",
              "      border-radius: 50%;\n",
              "      cursor: pointer;\n",
              "      display: none;\n",
              "      fill: #1967D2;\n",
              "      height: 32px;\n",
              "      padding: 0 0 0 0;\n",
              "      width: 32px;\n",
              "    }\n",
              "\n",
              "    .colab-df-convert:hover {\n",
              "      background-color: #E2EBFA;\n",
              "      box-shadow: 0px 1px 2px rgba(60, 64, 67, 0.3), 0px 1px 3px 1px rgba(60, 64, 67, 0.15);\n",
              "      fill: #174EA6;\n",
              "    }\n",
              "\n",
              "    [theme=dark] .colab-df-convert {\n",
              "      background-color: #3B4455;\n",
              "      fill: #D2E3FC;\n",
              "    }\n",
              "\n",
              "    [theme=dark] .colab-df-convert:hover {\n",
              "      background-color: #434B5C;\n",
              "      box-shadow: 0px 1px 3px 1px rgba(0, 0, 0, 0.15);\n",
              "      filter: drop-shadow(0px 1px 2px rgba(0, 0, 0, 0.3));\n",
              "      fill: #FFFFFF;\n",
              "    }\n",
              "  </style>\n",
              "\n",
              "      <script>\n",
              "        const buttonEl =\n",
              "          document.querySelector('#df-070bb448-5424-4465-a68f-2803b3d1009f button.colab-df-convert');\n",
              "        buttonEl.style.display =\n",
              "          google.colab.kernel.accessAllowed ? 'block' : 'none';\n",
              "\n",
              "        async function convertToInteractive(key) {\n",
              "          const element = document.querySelector('#df-070bb448-5424-4465-a68f-2803b3d1009f');\n",
              "          const dataTable =\n",
              "            await google.colab.kernel.invokeFunction('convertToInteractive',\n",
              "                                                     [key], {});\n",
              "          if (!dataTable) return;\n",
              "\n",
              "          const docLinkHtml = 'Like what you see? Visit the ' +\n",
              "            '<a target=\"_blank\" href=https://colab.research.google.com/notebooks/data_table.ipynb>data table notebook</a>'\n",
              "            + ' to learn more about interactive tables.';\n",
              "          element.innerHTML = '';\n",
              "          dataTable['output_type'] = 'display_data';\n",
              "          await google.colab.output.renderOutput(dataTable, element);\n",
              "          const docLink = document.createElement('div');\n",
              "          docLink.innerHTML = docLinkHtml;\n",
              "          element.appendChild(docLink);\n",
              "        }\n",
              "      </script>\n",
              "    </div>\n",
              "  </div>\n",
              "  "
            ]
          },
          "metadata": {},
          "execution_count": 85
        }
      ]
    },
    {
      "cell_type": "markdown",
      "metadata": {
        "id": "gsOEhNpuzhlg"
      },
      "source": [
        "##  Discussion"
      ]
    },
    {
      "cell_type": "markdown",
      "metadata": {
        "id": "frupe8HZ1ylk"
      },
      "source": [
        "**(1) Which framework can achieve higher accuracy, MLP or CNN? Briefly explain the reason.**\n",
        "\n",
        "\n",
        "---\n",
        "\n",
        "\n",
        "\n"
      ]
    },
    {
      "cell_type": "markdown",
      "source": [
        "Answer : \n",
        "\n",
        "CNN framework can achieve higher accuracy. Because CNN can effectively extract local features from images and combine them into global features for classification. In contrast, MLP usually can not appropriately process image data because MLP do not consider the structure and local features of images. CNN can use layers such as convolutional and pooling layers to process images, which can reduce the number of parameters while retaining image features. \n",
        "      "
      ],
      "metadata": {
        "id": "glGiw8r_9qVU"
      }
    },
    {
      "cell_type": "markdown",
      "source": [
        "**(2) Based on your experiments in Problem3, which parameter can potentially affect your performance most?**\n",
        "\n",
        "\n",
        "---\n",
        "\n"
      ],
      "metadata": {
        "id": "1UFi1dkd9oHe"
      }
    },
    {
      "cell_type": "markdown",
      "source": [
        "Answer : \n",
        "\n",
        "1. Based on CNN1 and CNN2, we can find that while adding 30% Dropout in FC\n",
        ", the performance become better since dropout can reduce the model's capacity and prevent it from memorizing the training data and thus prevent overfitting.\n",
        "\n",
        "2. Based on CNN3, we increase the # of conv to 5. The result shows that increasing the number of convolutional layers also increases the capacity of the model to learn more complex features and improve the model's ability to extract relevant features from the input data, which improves the performance.\n",
        "\n",
        "3. Based on CNN4, we change kernel size (conv) to 3x3, using stride (cov) with both 1x1 and 3x3 and set FC layer : 256 -> 84 -> 10.\n",
        "The result shows that with a larger stride, receptive field will increase, which can improve the model's ability to capture global patterns. And since we also use more complex FC layer, the performance becomes better.\n",
        "\n",
        "4. Based on CNN5, we add 30% Dropout in FC layer and increase the compexity of FC layer again. Compared with performance of CNN4, the performance gets small progress.\n",
        "\n",
        "5. Finally, on CNN6 we use Batch normalization strategy. It can act as regularizer, helping to reduce the generalization error of the model and speed up the convergence of the model. So we can get the performance higher than 80%."
      ],
      "metadata": {
        "id": "TzUuNBw9EPLe"
      }
    }
  ],
  "metadata": {
    "accelerator": "GPU",
    "colab": {
      "toc_visible": true,
      "provenance": [],
      "include_colab_link": true
    },
    "gpuClass": "standard",
    "kernelspec": {
      "display_name": "Python 3",
      "language": "python",
      "name": "python3"
    },
    "language_info": {
      "codemirror_mode": {
        "name": "ipython",
        "version": 3
      },
      "file_extension": ".py",
      "mimetype": "text/x-python",
      "name": "python",
      "nbconvert_exporter": "python",
      "pygments_lexer": "ipython3",
      "version": "3.7.7"
    }
  },
  "nbformat": 4,
  "nbformat_minor": 0
}